{
  "nbformat": 4,
  "nbformat_minor": 0,
  "metadata": {
    "kernelspec": {
      "display_name": "Python 3 (ipykernel)",
      "language": "python",
      "name": "python3"
    },
    "language_info": {
      "codemirror_mode": {
        "name": "ipython",
        "version": 3
      },
      "file_extension": ".py",
      "mimetype": "text/x-python",
      "name": "python",
      "nbconvert_exporter": "python",
      "pygments_lexer": "ipython3",
      "version": "3.8.12"
    },
    "colab": {
      "name": "under_working.ipynb",
      "provenance": [],
      "collapsed_sections": [],
      "include_colab_link": true
    }
  },
  "cells": [
    {
      "cell_type": "markdown",
      "metadata": {
        "id": "view-in-github",
        "colab_type": "text"
      },
      "source": [
        "<a href=\"https://colab.research.google.com/github/Lagstill/COA_Package/blob/main/under_working.ipynb\" target=\"_parent\"><img src=\"https://colab.research.google.com/assets/colab-badge.svg\" alt=\"Open In Colab\"/></a>"
      ]
    },
    {
      "cell_type": "markdown",
      "metadata": {
        "id": "ZUGshwEDkp1X"
      },
      "source": [
        ""
      ]
    },
    {
      "cell_type": "code",
      "metadata": {
        "id": "VCkDyqYdWjUn"
      },
      "source": [
        "import tensorflow as tf\n"
      ],
      "execution_count": 1,
      "outputs": []
    },
    {
      "cell_type": "code",
      "metadata": {
        "id": "xlvk3Ro1WjUq"
      },
      "source": [
        "import sys\n",
        "import numpy as np\n",
        "import pandas as pd\n",
        "import matplotlib.pyplot as plt\n",
        "import seaborn as sns\n",
        "%matplotlib inline\n",
        "\n",
        "from scipy.io import loadmat\n",
        "from sklearn.metrics import accuracy_score, confusion_matrix\n",
        "from sklearn.model_selection import train_test_split"
      ],
      "execution_count": 2,
      "outputs": []
    },
    {
      "cell_type": "code",
      "metadata": {
        "id": "3AUoWJWoWjUr"
      },
      "source": [
        "import torch as th\n",
        "import numpy as np\n",
        "from torchvision import datasets, transforms\n",
        "import torchvision.datasets as datasets\n",
        "from torch.utils.data import Subset\n",
        "from torch import nn\n",
        "import torch.nn.functional as F\n",
        "from torch import optim\n",
        "import syft as sy\n"
      ],
      "execution_count": 3,
      "outputs": []
    },
    {
      "cell_type": "code",
      "metadata": {
        "id": "WINRERrjWjUs"
      },
      "source": [
        "fashion_mnist = tf.keras.datasets.fashion_mnist\n",
        "\n",
        "(train_images, train_labels),(test_images,test_labels) = fashion_mnist.load_data()"
      ],
      "execution_count": 4,
      "outputs": []
    },
    {
      "cell_type": "code",
      "metadata": {
        "id": "i_ppsZpuWjUs",
        "colab": {
          "base_uri": "https://localhost:8080/"
        },
        "outputId": "baa23fc9-991f-4734-9106-7a6c62d781db"
      },
      "source": [
        "train_images.shape"
      ],
      "execution_count": 5,
      "outputs": [
        {
          "output_type": "execute_result",
          "data": {
            "text/plain": [
              "(60000, 28, 28)"
            ]
          },
          "metadata": {},
          "execution_count": 5
        }
      ]
    },
    {
      "cell_type": "code",
      "metadata": {
        "id": "l8aGqZ2QWjUt",
        "colab": {
          "base_uri": "https://localhost:8080/"
        },
        "outputId": "cc6949d4-d922-4d12-ae1b-9fcd235b09b6"
      },
      "source": [
        "class_names = ['T-shirt/top', 'Trouser', 'Pullover', 'Dress', 'Coat',\n",
        "               'Sandal', 'Shirt', 'Sneaker', 'Bag', 'Ankle boot']\n",
        "\n",
        "for i in range (0,10):\n",
        "    print(i,\"=====>\",class_names[i])"
      ],
      "execution_count": 6,
      "outputs": [
        {
          "output_type": "stream",
          "name": "stdout",
          "text": [
            "0 =====> T-shirt/top\n",
            "1 =====> Trouser\n",
            "2 =====> Pullover\n",
            "3 =====> Dress\n",
            "4 =====> Coat\n",
            "5 =====> Sandal\n",
            "6 =====> Shirt\n",
            "7 =====> Sneaker\n",
            "8 =====> Bag\n",
            "9 =====> Ankle boot\n"
          ]
        }
      ]
    },
    {
      "cell_type": "code",
      "metadata": {
        "id": "2f7DgIrJWjUu",
        "colab": {
          "base_uri": "https://localhost:8080/",
          "height": 589
        },
        "outputId": "f340b737-9a99-4b89-f912-4c7ec21995bd"
      },
      "source": [
        "plt.figure(figsize=(10,10))\n",
        "for i in range(36):\n",
        "    plt.subplot(6,6,i+1)\n",
        "    plt.xticks([])\n",
        "    plt.yticks([])\n",
        "    plt.grid(False)\n",
        "    plt.imshow(train_images[i], cmap=plt.cm.binary)\n",
        "    plt.xlabel(class_names[train_labels[i]])\n",
        "plt.show()"
      ],
      "execution_count": 7,
      "outputs": [
        {
          "output_type": "display_data",
          "data": {
            "image/png": "[encoded data removed]",
            "text/plain": [
              "<Figure size 720x720 with 36 Axes>"
            ]
          },
          "metadata": {}
        }
      ]
    },
    {
      "cell_type": "code",
      "metadata": {
        "id": "4gKZ2CEtWjUu",
        "colab": {
          "base_uri": "https://localhost:8080/"
        },
        "outputId": "2cd7a3fd-1d38-4b76-cf21-226ace840a1c"
      },
      "source": [
        "train_labels"
      ],
      "execution_count": 8,
      "outputs": [
        {
          "output_type": "execute_result",
          "data": {
            "text/plain": [
              "array([9, 0, 0, ..., 3, 0, 5], dtype=uint8)"
            ]
          },
          "metadata": {},
          "execution_count": 8
        }
      ]
    },
    {
      "cell_type": "code",
      "metadata": {
        "id": "SQl9tVsvWjUv"
      },
      "source": [
        "train1 = train_images[:200]"
      ],
      "execution_count": 9,
      "outputs": []
    },
    {
      "cell_type": "code",
      "metadata": {
        "id": "sgR2AHL6WjUw",
        "colab": {
          "base_uri": "https://localhost:8080/"
        },
        "outputId": "34e1c5e4-afd6-4239-e580-a089aa958423"
      },
      "source": [
        "train_images"
      ],
      "execution_count": 10,
      "outputs": [
        {
          "output_type": "execute_result",
          "data": {
            "text/plain": [
              "array([[[0, 0, 0, ..., 0, 0, 0],\n",
              "        [0, 0, 0, ..., 0, 0, 0],\n",
              "        [0, 0, 0, ..., 0, 0, 0],\n",
              "        ...,\n",
              "        [0, 0, 0, ..., 0, 0, 0],\n",
              "        [0, 0, 0, ..., 0, 0, 0],\n",
              "        [0, 0, 0, ..., 0, 0, 0]],\n",
              "\n",
              "       [[0, 0, 0, ..., 0, 0, 0],\n",
              "        [0, 0, 0, ..., 0, 0, 0],\n",
              "        [0, 0, 0, ..., 0, 0, 0],\n",
              "        ...,\n",
              "        [0, 0, 0, ..., 0, 0, 0],\n",
              "        [0, 0, 0, ..., 0, 0, 0],\n",
              "        [0, 0, 0, ..., 0, 0, 0]],\n",
              "\n",
              "       [[0, 0, 0, ..., 0, 0, 0],\n",
              "        [0, 0, 0, ..., 0, 0, 0],\n",
              "        [0, 0, 0, ..., 0, 0, 0],\n",
              "        ...,\n",
              "        [0, 0, 0, ..., 0, 0, 0],\n",
              "        [0, 0, 0, ..., 0, 0, 0],\n",
              "        [0, 0, 0, ..., 0, 0, 0]],\n",
              "\n",
              "       ...,\n",
              "\n",
              "       [[0, 0, 0, ..., 0, 0, 0],\n",
              "        [0, 0, 0, ..., 0, 0, 0],\n",
              "        [0, 0, 0, ..., 0, 0, 0],\n",
              "        ...,\n",
              "        [0, 0, 0, ..., 0, 0, 0],\n",
              "        [0, 0, 0, ..., 0, 0, 0],\n",
              "        [0, 0, 0, ..., 0, 0, 0]],\n",
              "\n",
              "       [[0, 0, 0, ..., 0, 0, 0],\n",
              "        [0, 0, 0, ..., 0, 0, 0],\n",
              "        [0, 0, 0, ..., 0, 0, 0],\n",
              "        ...,\n",
              "        [0, 0, 0, ..., 0, 0, 0],\n",
              "        [0, 0, 0, ..., 0, 0, 0],\n",
              "        [0, 0, 0, ..., 0, 0, 0]],\n",
              "\n",
              "       [[0, 0, 0, ..., 0, 0, 0],\n",
              "        [0, 0, 0, ..., 0, 0, 0],\n",
              "        [0, 0, 0, ..., 0, 0, 0],\n",
              "        ...,\n",
              "        [0, 0, 0, ..., 0, 0, 0],\n",
              "        [0, 0, 0, ..., 0, 0, 0],\n",
              "        [0, 0, 0, ..., 0, 0, 0]]], dtype=uint8)"
            ]
          },
          "metadata": {},
          "execution_count": 10
        }
      ]
    },
    {
      "cell_type": "code",
      "metadata": {
        "id": "zHKnA99rWjUw"
      },
      "source": [
        "label1=train_labels[:200]"
      ],
      "execution_count": 11,
      "outputs": []
    },
    {
      "cell_type": "code",
      "metadata": {
        "id": "lZzxY5KeWjUw"
      },
      "source": [
        "df = pd.DataFrame(train_labels)\n",
        "df=df.rename(columns={0: \"label\"})"
      ],
      "execution_count": 12,
      "outputs": []
    },
    {
      "cell_type": "code",
      "metadata": {
        "id": "lHwAx0B0WjUx",
        "colab": {
          "base_uri": "https://localhost:8080/",
          "height": 279
        },
        "outputId": "31893a71-68fe-43a3-cff8-427f29de2da8"
      },
      "source": [
        "ax = sns.countplot(x=\"label\", data=df)"
      ],
      "execution_count": 13,
      "outputs": [
        {
          "output_type": "display_data",
          "data": {
            "image/png": "[encoded data removed]",
            "text/plain": [
              "<Figure size 432x288 with 1 Axes>"
            ]
          },
          "metadata": {
            "needs_background": "light"
          }
        }
      ]
    },
    {
      "cell_type": "code",
      "metadata": {
        "id": "mW6_JqqSWjUx",
        "colab": {
          "base_uri": "https://localhost:8080/"
        },
        "outputId": "4aa72506-cf5a-47f7-8858-06959b47b938"
      },
      "source": [
        "y_value=np.zeros((1,10))\n",
        "for i in range (10):\n",
        "    print(\"occurance of \",i,\"=\",np.count_nonzero(train_labels==i))\n",
        "    y_value[0,i-1]= np.count_nonzero(train_labels==i)"
      ],
      "execution_count": 14,
      "outputs": [
        {
          "output_type": "stream",
          "name": "stdout",
          "text": [
            "occurance of  0 = 6000\n",
            "occurance of  1 = 6000\n",
            "occurance of  2 = 6000\n",
            "occurance of  3 = 6000\n",
            "occurance of  4 = 6000\n",
            "occurance of  5 = 6000\n",
            "occurance of  6 = 6000\n",
            "occurance of  7 = 6000\n",
            "occurance of  8 = 6000\n",
            "occurance of  9 = 6000\n"
          ]
        }
      ]
    },
    {
      "cell_type": "code",
      "metadata": {
        "id": "NvrfZMFAWjUx"
      },
      "source": [
        "def normalize(data):\n",
        "    mean = np.mean(data, axis=1, keepdims=True)\n",
        "    std = np.std(data, axis=1, keepdims=True)\n",
        "    data_normalized = (data - mean)/std\n",
        "    return data_normalized"
      ],
      "execution_count": 15,
      "outputs": []
    },
    {
      "cell_type": "code",
      "metadata": {
        "id": "gwIPwVjwWjUx",
        "colab": {
          "base_uri": "https://localhost:8080/"
        },
        "outputId": "c8a19f92-e231-42ac-ed1d-d64ec79ab75f"
      },
      "source": [
        "mnist_data_normalized = normalize(train_images)"
      ],
      "execution_count": 16,
      "outputs": [
        {
          "output_type": "stream",
          "name": "stderr",
          "text": [
            "/usr/local/lib/python3.7/dist-packages/ipykernel_launcher.py:4: RuntimeWarning: invalid value encountered in true_divide\n",
            "  after removing the cwd from sys.path.\n"
          ]
        }
      ]
    },
    {
      "cell_type": "code",
      "metadata": {
        "id": "L2kmBw-vWjUy"
      },
      "source": [
        "train1 =train1.reshape(-1, 28**2)"
      ],
      "execution_count": 17,
      "outputs": []
    },
    {
      "cell_type": "code",
      "metadata": {
        "id": "aaCEsmRVWjUy"
      },
      "source": [
        "label1 = label1.astype('float64')"
      ],
      "execution_count": 18,
      "outputs": []
    },
    {
      "cell_type": "code",
      "metadata": {
        "id": "LKhhXBHKWjUy"
      },
      "source": [
        "train1 = train1.astype('float64')"
      ],
      "execution_count": 19,
      "outputs": []
    },
    {
      "cell_type": "code",
      "metadata": {
        "id": "nQJqW_g0WjUy",
        "colab": {
          "base_uri": "https://localhost:8080/"
        },
        "outputId": "50b32a68-00cc-4f1a-eafb-4a789139e989"
      },
      "source": [
        "X_train, X_test, Y_train, Y_test = train_test_split(train1,label1, test_size=0.20, random_state=42)\n",
        "Y_train = Y_train.reshape(Y_train.shape[0],1)\n",
        "Y_test = Y_test.reshape(Y_test.shape[0],1)\n",
        "print(\"The shape of the training set feature matrix is:\", X_train.shape)\n",
        "print(\"The shape of the training label vector is:\", Y_train.shape)\n",
        "print(\"The shape of the test set feature matrix is:\", X_test.shape)\n",
        "print(\"The shape of the test label vector is:\", Y_test.shape)"
      ],
      "execution_count": 20,
      "outputs": [
        {
          "output_type": "stream",
          "name": "stdout",
          "text": [
            "The shape of the training set feature matrix is: (160, 784)\n",
            "The shape of the training label vector is: (160, 1)\n",
            "The shape of the test set feature matrix is: (40, 784)\n",
            "The shape of the test label vector is: (40, 1)\n"
          ]
        }
      ]
    },
    {
      "cell_type": "code",
      "metadata": {
        "id": "lxtGKzIRWjUz"
      },
      "source": [
        "Y_train_0=(Y_train==0).astype(int)\n",
        "Y_train_1=(Y_train==1).astype(int)\n",
        "Y_train_2=(Y_train==2).astype(int)\n",
        "Y_train_3=(Y_train==3).astype(int)\n",
        "Y_train_4=(Y_train==4).astype(int)\n",
        "Y_train_5=(Y_train==5).astype(int)\n",
        "Y_train_6=(Y_train==6).astype(int)\n",
        "Y_train_7=(Y_train==7).astype(int)\n",
        "Y_train_8=(Y_train==8).astype(int)\n",
        "Y_train_9=(Y_train==9).astype(int)"
      ],
      "execution_count": 21,
      "outputs": []
    },
    {
      "cell_type": "code",
      "metadata": {
        "id": "WKIoa_80WjUz"
      },
      "source": [
        "Y_test_0=(Y_test==0).astype(int)\n",
        "Y_test_1=(Y_test==1).astype(int)\n",
        "Y_test_2=(Y_test==2).astype(int)\n",
        "Y_test_3=(Y_test==3).astype(int)\n",
        "Y_test_4=(Y_test==4).astype(int)\n",
        "Y_test_5=(Y_test==5).astype(int)\n",
        "Y_test_6=(Y_test==6).astype(int)\n",
        "Y_test_7=(Y_test==7).astype(int)\n",
        "Y_test_8=(Y_test==8).astype(int)\n",
        "Y_test_9=(Y_test==9).astype(int)\n"
      ],
      "execution_count": 22,
      "outputs": []
    },
    {
      "cell_type": "code",
      "metadata": {
        "id": "pPL5V1cDWjU0"
      },
      "source": [
        "def initializer(nbr_features):\n",
        "    W = np.zeros((nbr_features,1))\n",
        "    B = 0\n",
        "    return W, B"
      ],
      "execution_count": 23,
      "outputs": []
    },
    {
      "cell_type": "code",
      "metadata": {
        "id": "nK3l69dOWjU0"
      },
      "source": [
        "# Creating a Sigmoid function\n",
        "\n",
        "def sigmoid(x):\n",
        "    s = 1/(1+np.exp(-x))\n",
        "    return s\n"
      ],
      "execution_count": 24,
      "outputs": []
    },
    {
      "cell_type": "code",
      "metadata": {
        "id": "z4Slp-d_WjU0"
      },
      "source": [
        "def ForwardBackProp(X, Y, W, B):\n",
        "    m = X.shape[0] \n",
        "    dw = np.zeros((W.shape[0],1))\n",
        "    dB = 0\n",
        "    \n",
        "    Z = np.dot(X,W)+B\n",
        "    Yhat = sigmoid(Z) \n",
        "    J = -(1/m+1)*(np.dot(Y.T,np.log(Yhat))+np.dot((1-Y).T,np.log(1-Yhat)))\n",
        "    dW = (1/m)*np.dot(X.T,(Yhat-Y))\n",
        "    dB = (1/m)*np.sum(Yhat-Y)\n",
        "    return J, dW, dB\n"
      ],
      "execution_count": 25,
      "outputs": []
    },
    {
      "cell_type": "code",
      "metadata": {
        "id": "d6G5d9K3WjU0"
      },
      "source": [
        "# Creating a prediction function which predicts the labels of the input images\n",
        "\n",
        "def predict(X,W,B):\n",
        "    Yhat_prob = sigmoid(np.dot(X,W)+B)\n",
        "    Yhat = np.round(Yhat_prob).astype(int)\n",
        "    return Yhat, Yhat_prob"
      ],
      "execution_count": 26,
      "outputs": []
    },
    {
      "cell_type": "code",
      "metadata": {
        "id": "3rN_PaA0WjU0"
      },
      "source": [
        "def gradient_descent(X, Y, W, B, alpha, max_iter):\n",
        "    i=0\n",
        "    RMSE = 1\n",
        "    cost_history=[]\n",
        "    \n",
        "    # setup toolbar\n",
        "    toolbar_width = 20\n",
        "    sys.stdout.write(\"[%s]\" % (\"\" * toolbar_width))\n",
        "    sys.stdout.flush()\n",
        "    sys.stdout.write(\"\\b\" * (toolbar_width+1)) # return to start of line, after '['\n",
        "    \n",
        "    while (i<max_iter)&(RMSE>10e-6):\n",
        "        J, dW, dB = ForwardBackProp(X,Y,W,B)\n",
        "        W = W - alpha*dW\n",
        "        B = B - alpha*dB\n",
        "        cost_history.append(J)\n",
        "        Yhat, _ = predict(X,W,B)\n",
        "        RMSE = np.sqrt(np.mean(Yhat-Y)**2)\n",
        "        i+=1\n",
        "        if i%50==0:\n",
        "            sys.stdout.write(\"=\")\n",
        "            sys.stdout.flush()\n",
        "    \n",
        "    sys.stdout.write(\"]\\n\") # this ends the progress bar\n",
        "    return cost_history, W, B, i"
      ],
      "execution_count": 27,
      "outputs": []
    },
    {
      "cell_type": "code",
      "metadata": {
        "id": "YgcBNmeNWjU1"
      },
      "source": [
        "# Creating the model function which trains a model and return its parameters. \n",
        "\n",
        "def LogRegModel(X_train, X_test, Y_train, Y_test, alpha, max_iter):\n",
        "    \n",
        "    nbr_features = X_train.shape[1]\n",
        "    W, B = initializer(nbr_features)\n",
        "    cost_history, W, B, i = gradient_descent(X_train, Y_train, W, B, alpha, max_iter)\n",
        "    Yhat_train, _ = predict(X_train, W, B)\n",
        "    Yhat, _ = predict(X_test, W, B)\n",
        "    \n",
        "    train_accuracy = accuracy_score(Y_train, Yhat_train)\n",
        "    test_accuracy = accuracy_score(Y_test, Yhat)\n",
        "    conf_matrix = confusion_matrix(Y_test, Yhat, normalize='true')\n",
        "    \n",
        "    model = {\"weights\": W,\n",
        "            \"bias\": B,\n",
        "            \"train_accuracy\": train_accuracy,\n",
        "            \"test_accuracy\": test_accuracy,\n",
        "            \"confusion_matrix\": conf_matrix,\n",
        "            \"cost_history\": cost_history}\n",
        "    return model"
      ],
      "execution_count": 28,
      "outputs": []
    },
    {
      "cell_type": "code",
      "metadata": {
        "id": "W-93KjqgWjU1",
        "colab": {
          "base_uri": "https://localhost:8080/"
        },
        "outputId": "ed3fef2c-fec7-4788-9033-68f76b61e09e"
      },
      "source": [
        "# Testing the model function by training a classifier for the digit '0'\n",
        "\n",
        "print('Progress bar: 1 step each 50 iteration')\n",
        "model_0 = LogRegModel(X_train, X_test, Y_train_0, Y_test_0, alpha=0.01, max_iter=1000)\n",
        "print('Training completed!')"
      ],
      "execution_count": 29,
      "outputs": [
        {
          "output_type": "stream",
          "name": "stdout",
          "text": [
            "Progress bar: 1 step each 50 iteration\n",
            "[]\b\b\b\b\b\b\b\b\b\b\b\b\b\b\b\b\b\b\b\b\b]\n",
            "Training completed!\n"
          ]
        },
        {
          "output_type": "stream",
          "name": "stderr",
          "text": [
            "/usr/local/lib/python3.7/dist-packages/ipykernel_launcher.py:4: RuntimeWarning: overflow encountered in exp\n",
            "  after removing the cwd from sys.path.\n",
            "/usr/local/lib/python3.7/dist-packages/ipykernel_launcher.py:8: RuntimeWarning: divide by zero encountered in log\n",
            "  \n"
          ]
        }
      ]
    },
    {
      "cell_type": "code",
      "metadata": {
        "id": "TpySRVrPWjU1",
        "colab": {
          "base_uri": "https://localhost:8080/"
        },
        "outputId": "ef193d8c-5ea7-4192-d80c-877d72bcdc7a"
      },
      "source": [
        "print('The training accuracy of the model',model_0['train_accuracy'])\n",
        "print('The test accuracy of the model',model_0['test_accuracy'])"
      ],
      "execution_count": 30,
      "outputs": [
        {
          "output_type": "stream",
          "name": "stdout",
          "text": [
            "The training accuracy of the model 0.95\n",
            "The test accuracy of the model 0.875\n"
          ]
        }
      ]
    },
    {
      "cell_type": "code",
      "metadata": {
        "id": "BhuHltPuWjU1",
        "colab": {
          "base_uri": "https://localhost:8080/"
        },
        "outputId": "3d6bb39b-37db-4cfb-d570-48770cbd8925"
      },
      "source": [
        "models_list=[]\n",
        "models_name_list=['model_0','model_1','model_2','model_3','model_4','model_5','model_6',\n",
        "                 'model_7','model_8','model_9']\n",
        "Y_train_list=[Y_train_0,Y_train_1,Y_train_2,Y_train_3,Y_train_4,Y_train_5,Y_train_6,\n",
        "             Y_train_7,Y_train_8,Y_train_9]\n",
        "Y_test_list = [Y_test_0,Y_test_1,Y_test_2,Y_test_3,Y_test_4,Y_test_5,Y_test_6,Y_test_7,\n",
        "              Y_test_8,Y_test_9]\n",
        "print('Training of a classifier for each digit:')\n",
        "for i in range(10):\n",
        "    print('Training of the model: ', models_name_list[i],', to recognize the digit: ',i)\n",
        "    print('Training progress bar: 1 step each 50 iteration')\n",
        "    model = LogRegModel(X_train, X_test, Y_train_list[i], Y_test_list[i], alpha=0.01, max_iter=1000)\n",
        "    print('Training completed!')\n",
        "    print('Accuracy:', model['test_accuracy'])\n",
        "    print('-'*60)\n",
        "    models_list.append(model)"
      ],
      "execution_count": 31,
      "outputs": [
        {
          "output_type": "stream",
          "name": "stdout",
          "text": [
            "Training of a classifier for each digit:\n",
            "Training of the model:  model_0 , to recognize the digit:  0\n",
            "Training progress bar: 1 step each 50 iteration\n",
            "[]\b\b\b\b\b\b\b\b\b\b\b\b\b\b\b\b\b\b\b\b\b]\n",
            "Training completed!\n",
            "Accuracy: 0.875\n",
            "------------------------------------------------------------\n",
            "Training of the model:  model_1 , to recognize the digit:  1\n",
            "Training progress bar: 1 step each 50 iteration\n",
            "[]\b\b\b\b\b\b\b\b\b\b\b\b\b\b\b\b\b\b\b\b\b]\n",
            "Training completed!\n",
            "Accuracy: 1.0\n",
            "------------------------------------------------------------\n",
            "Training of the model:  model_2 , to recognize the digit:  2\n",
            "Training progress bar: 1 step each 50 iteration\n",
            "[]\b\b\b\b\b\b\b\b\b\b\b\b\b\b\b\b\b\b\b\b\b]\n",
            "Training completed!\n",
            "Accuracy: 0.95\n",
            "------------------------------------------------------------\n",
            "Training of the model:  model_3 , to recognize the digit:  3\n",
            "Training progress bar: 1 step each 50 iteration\n",
            "[]\b\b\b\b\b\b\b\b\b\b\b\b\b\b\b\b\b\b\b\b\b]\n",
            "Training completed!\n",
            "Accuracy: 0.975\n",
            "------------------------------------------------------------\n",
            "Training of the model:  model_4 , to recognize the digit:  4\n",
            "Training progress bar: 1 step each 50 iteration\n",
            "[]\b\b\b\b\b\b\b\b\b\b\b\b\b\b\b\b\b\b\b\b\b]\n",
            "Training completed!\n",
            "Accuracy: 0.875\n",
            "------------------------------------------------------------\n",
            "Training of the model:  model_5 , to recognize the digit:  5\n",
            "Training progress bar: 1 step each 50 iteration\n",
            "[]\b\b\b\b\b\b\b\b\b\b\b\b\b\b\b\b\b\b\b\b\b]\n",
            "Training completed!\n",
            "Accuracy: 0.9\n",
            "------------------------------------------------------------\n",
            "Training of the model:  model_6 , to recognize the digit:  6\n",
            "Training progress bar: 1 step each 50 iteration\n",
            "[]\b\b\b\b\b\b\b\b\b\b\b\b\b\b\b\b\b\b\b\b\b=]\n",
            "Training completed!\n",
            "Accuracy: 0.9\n",
            "------------------------------------------------------------\n",
            "Training of the model:  model_7 , to recognize the digit:  7\n",
            "Training progress bar: 1 step each 50 iteration\n",
            "[]\b\b\b\b\b\b\b\b\b\b\b\b\b\b\b\b\b\b\b\b\b]\n",
            "Training completed!\n",
            "Accuracy: 0.95\n",
            "------------------------------------------------------------\n",
            "Training of the model:  model_8 , to recognize the digit:  8\n",
            "Training progress bar: 1 step each 50 iteration\n",
            "[]\b\b\b\b\b\b\b\b\b\b\b\b\b\b\b\b\b\b\b\b\b]\n",
            "Training completed!\n",
            "Accuracy: 0.875\n",
            "------------------------------------------------------------\n",
            "Training of the model:  model_9 , to recognize the digit:  9\n",
            "Training progress bar: 1 step each 50 iteration\n",
            "[]"
          ]
        },
        {
          "output_type": "stream",
          "name": "stderr",
          "text": [
            "/usr/local/lib/python3.7/dist-packages/ipykernel_launcher.py:4: RuntimeWarning: overflow encountered in exp\n",
            "  after removing the cwd from sys.path.\n",
            "/usr/local/lib/python3.7/dist-packages/ipykernel_launcher.py:8: RuntimeWarning: divide by zero encountered in log\n",
            "  \n",
            "/usr/local/lib/python3.7/dist-packages/ipykernel_launcher.py:4: RuntimeWarning: overflow encountered in exp\n",
            "  after removing the cwd from sys.path.\n",
            "/usr/local/lib/python3.7/dist-packages/ipykernel_launcher.py:8: RuntimeWarning: divide by zero encountered in log\n",
            "  \n",
            "/usr/local/lib/python3.7/dist-packages/ipykernel_launcher.py:4: RuntimeWarning: overflow encountered in exp\n",
            "  after removing the cwd from sys.path.\n",
            "/usr/local/lib/python3.7/dist-packages/ipykernel_launcher.py:8: RuntimeWarning: divide by zero encountered in log\n",
            "  \n",
            "/usr/local/lib/python3.7/dist-packages/ipykernel_launcher.py:4: RuntimeWarning: overflow encountered in exp\n",
            "  after removing the cwd from sys.path.\n",
            "/usr/local/lib/python3.7/dist-packages/ipykernel_launcher.py:8: RuntimeWarning: divide by zero encountered in log\n",
            "  \n",
            "/usr/local/lib/python3.7/dist-packages/ipykernel_launcher.py:4: RuntimeWarning: overflow encountered in exp\n",
            "  after removing the cwd from sys.path.\n",
            "/usr/local/lib/python3.7/dist-packages/ipykernel_launcher.py:8: RuntimeWarning: divide by zero encountered in log\n",
            "  \n",
            "/usr/local/lib/python3.7/dist-packages/ipykernel_launcher.py:4: RuntimeWarning: overflow encountered in exp\n",
            "  after removing the cwd from sys.path.\n",
            "/usr/local/lib/python3.7/dist-packages/ipykernel_launcher.py:8: RuntimeWarning: divide by zero encountered in log\n",
            "  \n",
            "/usr/local/lib/python3.7/dist-packages/ipykernel_launcher.py:4: RuntimeWarning: overflow encountered in exp\n",
            "  after removing the cwd from sys.path.\n",
            "/usr/local/lib/python3.7/dist-packages/ipykernel_launcher.py:8: RuntimeWarning: divide by zero encountered in log\n",
            "  \n",
            "/usr/local/lib/python3.7/dist-packages/ipykernel_launcher.py:4: RuntimeWarning: overflow encountered in exp\n",
            "  after removing the cwd from sys.path.\n",
            "/usr/local/lib/python3.7/dist-packages/ipykernel_launcher.py:8: RuntimeWarning: divide by zero encountered in log\n",
            "  \n",
            "/usr/local/lib/python3.7/dist-packages/ipykernel_launcher.py:4: RuntimeWarning: overflow encountered in exp\n",
            "  after removing the cwd from sys.path.\n",
            "/usr/local/lib/python3.7/dist-packages/ipykernel_launcher.py:8: RuntimeWarning: divide by zero encountered in log\n",
            "  \n"
          ]
        },
        {
          "output_type": "stream",
          "name": "stdout",
          "text": [
            "\b\b\b\b\b\b\b\b\b\b\b\b\b\b\b\b\b\b\b\b\b]\n",
            "Training completed!\n",
            "Accuracy: 0.9\n",
            "------------------------------------------------------------\n"
          ]
        },
        {
          "output_type": "stream",
          "name": "stderr",
          "text": [
            "/usr/local/lib/python3.7/dist-packages/ipykernel_launcher.py:4: RuntimeWarning: overflow encountered in exp\n",
            "  after removing the cwd from sys.path.\n",
            "/usr/local/lib/python3.7/dist-packages/ipykernel_launcher.py:8: RuntimeWarning: divide by zero encountered in log\n",
            "  \n"
          ]
        }
      ]
    },
    {
      "cell_type": "code",
      "metadata": {
        "id": "CYxop6ioWjU2",
        "colab": {
          "base_uri": "https://localhost:8080/"
        },
        "outputId": "e76057fd-18f7-4a97-ec6f-e88a3c485dbc"
      },
      "source": [
        "accuracy_list=[]\n",
        "for i in range(len(models_list)):\n",
        "    accuracy_list.append(models_list[i]['test_accuracy'])\n",
        "ove_vs_all_accuracy=np.mean(accuracy_list)\n",
        "print('The accuracy of the Onve-Vs-All model is:', ove_vs_all_accuracy)"
      ],
      "execution_count": 32,
      "outputs": [
        {
          "output_type": "stream",
          "name": "stdout",
          "text": [
            "The accuracy of the Onve-Vs-All model is: 0.9200000000000002\n"
          ]
        }
      ]
    },
    {
      "cell_type": "code",
      "metadata": {
        "id": "8rqaYzG6WjU2"
      },
      "source": [
        "def one_vs_all(data, models_list):\n",
        "    pred_matrix = np.zeros((data.shape[0],10))\n",
        "    for i in range(len(models_list)):\n",
        "        W = models_list[i]['weights']\n",
        "        B = models_list[i]['bias']\n",
        "        Yhat, Yhat_prob = predict(data,W,B)\n",
        "        pred_matrix[:,i] = Yhat_prob.T\n",
        "    max_prob_vec = np.amax(pred_matrix, axis=1, keepdims=True)\n",
        "    pred_matrix_max_prob = (pred_matrix == max_prob_vec).astype(int)\n",
        "    labels=[]\n",
        "    for j in range(pred_matrix_max_prob.shape[0]):\n",
        "        idx = np.where(pred_matrix_max_prob[j,:]==1)\n",
        "        labels.append(idx)\n",
        "    labels = np.vstack(labels).flatten()\n",
        "    return labels"
      ],
      "execution_count": 33,
      "outputs": []
    },
    {
      "cell_type": "code",
      "metadata": {
        "id": "0IVVIi21WjU2",
        "colab": {
          "base_uri": "https://localhost:8080/"
        },
        "outputId": "6376364b-06cc-4fd3-a27c-3c76e50fd500"
      },
      "source": [
        "# Testing the one-vs-all function on 6 random examples \n",
        "\n",
        "examples_number = 6 \n",
        "index_random_sample = np.random.randint(70, size=(1,examples_number))\n",
        "example = train1[index_random_sample].reshape(examples_number ,784)\n",
        "true_labels = label1[index_random_sample].flatten().astype(int)\n",
        "label = one_vs_all(example, models_list)"
      ],
      "execution_count": 44,
      "outputs": [
        {
          "output_type": "stream",
          "name": "stderr",
          "text": [
            "/usr/local/lib/python3.7/dist-packages/ipykernel_launcher.py:4: RuntimeWarning: overflow encountered in exp\n",
            "  after removing the cwd from sys.path.\n"
          ]
        }
      ]
    },
    {
      "cell_type": "code",
      "metadata": {
        "id": "57vqr_6-WjU2",
        "colab": {
          "base_uri": "https://localhost:8080/",
          "height": 499
        },
        "outputId": "95d75b10-e495-498f-f0ac-eb3ec63d7ea9"
      },
      "source": [
        "plt.figure(figsize=(14,8))\n",
        "for i in range(examples_number):\n",
        "    image = example[i].reshape(28,28)\n",
        "    plt.subplot(2,3,i+1)\n",
        "    plt.imshow(image)\n",
        "    title = f\"True label is: {true_labels[i]}, predicted as: {label[i]}\"\n",
        "    plt.title(title)"
      ],
      "execution_count": 45,
      "outputs": [
        {
          "output_type": "display_data",
          "data": {
            "image/png": "[encoded data removed]",
            "text/plain": [
              "<Figure size 1008x576 with 6 Axes>"
            ]
          },
          "metadata": {
            "needs_background": "light"
          }
        }
      ]
    },
    {
      "cell_type": "code",
      "metadata": {
        "id": "rG8pZ2qKWjU2",
        "outputId": "c93789e7-5ade-4386-d547-04405a372aef"
      },
      "source": [
        "pip install syft --user"
      ],
      "execution_count": null,
      "outputs": [
        {
          "name": "stdout",
          "output_type": "stream",
          "text": [
            "Requirement already satisfied: syft in d:\\anaconda\\lib\\site-packages (0.5.0)\n",
            "Requirement already satisfied: cachetools in d:\\anaconda\\lib\\site-packages (from syft) (4.2.4)\n",
            "Requirement already satisfied: pyarrow in d:\\anaconda\\lib\\site-packages (from syft) (6.0.0)\n",
            "Requirement already satisfied: dpcontracts in d:\\anaconda\\lib\\site-packages (from syft) (0.6.0)\n",
            "Requirement already satisfied: sqlitedict in d:\\anaconda\\lib\\site-packages (from syft) (1.7.0)\n",
            "Requirement already satisfied: websocket-client in d:\\anaconda\\lib\\site-packages (from syft) (1.2.1)\n",
            "Requirement already satisfied: torch<=1.8.1,>=1.4.0 in d:\\anaconda\\lib\\site-packages (from syft) (1.8.1)\n",
            "Requirement already satisfied: typing-extensions in d:\\anaconda\\lib\\site-packages (from syft) (3.10.0.2)\n",
            "Requirement already satisfied: forbiddenfruit>=0.1.3 in d:\\anaconda\\lib\\site-packages (from syft) (0.1.4)\n",
            "Requirement already satisfied: aiortc in d:\\anaconda\\lib\\site-packages (from syft) (1.2.1)\n",
            "Requirement already satisfied: flask<2.0.0,>=1.1.2 in d:\\anaconda\\lib\\site-packages (from syft) (1.1.2)\n",
            "Requirement already satisfied: syft-proto in d:\\anaconda\\lib\\site-packages (from syft) (0.5.3)\n",
            "Requirement already satisfied: nest-asyncio in d:\\anaconda\\lib\\site-packages (from syft) (1.5.1)\n",
            "Requirement already satisfied: torchvision<=0.9.1,>=0.5 in d:\\anaconda\\lib\\site-packages (from syft) (0.5.0)\n",
            "Requirement already satisfied: wrapt in d:\\anaconda\\lib\\site-packages (from syft) (1.12.1)\n",
            "Requirement already satisfied: PyYAML>=5.4.1 in d:\\anaconda\\lib\\site-packages (from syft) (6.0)\n",
            "Requirement already satisfied: packaging in d:\\anaconda\\lib\\site-packages (from syft) (21.0)\n",
            "Requirement already satisfied: requests in d:\\anaconda\\lib\\site-packages (from syft) (2.26.0)\n",
            "Requirement already satisfied: loguru in d:\\anaconda\\lib\\site-packages (from syft) (0.5.3)\n",
            "Requirement already satisfied: PyNaCl in d:\\anaconda\\lib\\site-packages (from syft) (1.4.0)\n",
            "Requirement already satisfied: requests-toolbelt in d:\\anaconda\\lib\\site-packages (from syft) (0.9.1)\n",
            "Requirement already satisfied: cryptography>=3.4.7 in d:\\anaconda\\lib\\site-packages (from syft) (3.4.8)\n",
            "Requirement already satisfied: names in d:\\anaconda\\lib\\site-packages (from syft) (0.3.0)\n",
            "Requirement already satisfied: protobuf in d:\\anaconda\\lib\\site-packages (from syft) (3.19.1)\n",
            "Requirement already satisfied: torchcsprng<=0.2.1 in d:\\anaconda\\lib\\site-packages (from syft) (0.2.1)\n",
            "Requirement already satisfied: pandas in d:\\anaconda\\lib\\site-packages (from syft) (1.3.4)\n",
            "Requirement already satisfied: scikit-learn in d:\\anaconda\\lib\\site-packages (from syft) (1.0.1)\n",
            "Requirement already satisfied: PyJWT==1.7.1 in d:\\anaconda\\lib\\site-packages (from syft) (1.7.1)\n",
            "Requirement already satisfied: cffi>=1.12 in d:\\anaconda\\lib\\site-packages (from cryptography>=3.4.7->syft) (1.15.0)\n",
            "Requirement already satisfied: pycparser in d:\\anaconda\\lib\\site-packages (from cffi>=1.12->cryptography>=3.4.7->syft) (2.21)\n",
            "Requirement already satisfied: itsdangerous>=0.24 in d:\\anaconda\\lib\\site-packages (from flask<2.0.0,>=1.1.2->syft) (2.0.1)\n",
            "Requirement already satisfied: click>=5.1 in d:\\anaconda\\lib\\site-packages (from flask<2.0.0,>=1.1.2->syft) (8.0.3)\n",
            "Requirement already satisfied: Jinja2>=2.10.1 in d:\\anaconda\\lib\\site-packages (from flask<2.0.0,>=1.1.2->syft) (2.11.3)\n",
            "Requirement already satisfied: Werkzeug>=0.15 in d:\\anaconda\\lib\\site-packages (from flask<2.0.0,>=1.1.2->syft) (2.0.2)\n",
            "Requirement already satisfied: colorama in d:\\anaconda\\lib\\site-packages (from click>=5.1->flask<2.0.0,>=1.1.2->syft) (0.4.4)\n",
            "Requirement already satisfied: MarkupSafe>=0.23 in d:\\anaconda\\lib\\site-packages (from Jinja2>=2.10.1->flask<2.0.0,>=1.1.2->syft) (2.0.1)\n",
            "Requirement already satisfied: numpy in d:\\anaconda\\lib\\site-packages (from torch<=1.8.1,>=1.4.0->syft) (1.21.2)\n",
            "Requirement already satisfied: six in d:\\anaconda\\lib\\site-packages (from torchvision<=0.9.1,>=0.5->syft) (1.15.0)\n",
            "Requirement already satisfied: pillow>=4.1.1 in d:\\anaconda\\lib\\site-packages (from torchvision<=0.9.1,>=0.5->syft) (8.4.0)\n",
            "Collecting torchvision<=0.9.1,>=0.5\n",
            "  Using cached torchvision-0.9.1-cp38-cp38-win_amd64.whl (852 kB)\n",
            "Requirement already satisfied: pyee>=6.0.0 in d:\\anaconda\\lib\\site-packages (from aiortc->syft) (8.2.2)\n",
            "Requirement already satisfied: aioice<0.8.0,>=0.7.5 in d:\\anaconda\\lib\\site-packages (from aiortc->syft) (0.7.5)\n",
            "Requirement already satisfied: av<9.0.0,>=8.0.0 in d:\\anaconda\\lib\\site-packages (from aiortc->syft) (8.0.3)\n",
            "Requirement already satisfied: google-crc32c>=1.1 in d:\\anaconda\\lib\\site-packages (from aiortc->syft) (1.3.0)\n",
            "Requirement already satisfied: pylibsrtp>=0.5.6 in d:\\anaconda\\lib\\site-packages (from aiortc->syft) (0.6.8)\n",
            "Requirement already satisfied: netifaces in d:\\anaconda\\lib\\site-packages (from aioice<0.8.0,>=0.7.5->aiortc->syft) (0.11.0)\n",
            "Requirement already satisfied: dnspython in d:\\anaconda\\lib\\site-packages (from aioice<0.8.0,>=0.7.5->aiortc->syft) (2.1.0)\n",
            "Requirement already satisfied: win32-setctime>=1.0.0 in d:\\anaconda\\lib\\site-packages (from loguru->syft) (1.0.3)\n",
            "Requirement already satisfied: pyparsing>=2.0.2 in d:\\anaconda\\lib\\site-packages (from packaging->syft) (3.0.4)\n",
            "Requirement already satisfied: python-dateutil>=2.7.3 in d:\\anaconda\\lib\\site-packages (from pandas->syft) (2.8.2)\n",
            "Requirement already satisfied: pytz>=2017.3 in d:\\anaconda\\lib\\site-packages (from pandas->syft) (2021.3)\n",
            "Requirement already satisfied: idna<4,>=2.5 in d:\\anaconda\\lib\\site-packages (from requests->syft) (3.2)\n",
            "Requirement already satisfied: certifi>=2017.4.17 in d:\\anaconda\\lib\\site-packages (from requests->syft) (2021.10.8)\n",
            "Requirement already satisfied: urllib3<1.27,>=1.21.1 in d:\\anaconda\\lib\\site-packages (from requests->syft) (1.26.7)\n",
            "Requirement already satisfied: charset-normalizer~=2.0.0 in d:\\anaconda\\lib\\site-packages (from requests->syft) (2.0.4)\n",
            "Requirement already satisfied: threadpoolctl>=2.0.0 in d:\\anaconda\\lib\\site-packages (from scikit-learn->syft) (2.2.0)\n",
            "Requirement already satisfied: scipy>=1.1.0 in d:\\anaconda\\lib\\site-packages (from scikit-learn->syft) (1.7.1)\n",
            "Requirement already satisfied: joblib>=0.11 in d:\\anaconda\\lib\\site-packages (from scikit-learn->syft) (1.1.0)\n",
            "Note: you may need to restart the kernel to use updated packages.\n",
            "Installing collected packages: torchvision\n",
            "Successfully installed torchvision-0.9.1\n"
          ]
        }
      ]
    },
    {
      "cell_type": "code",
      "metadata": {
        "id": "HGBI1s8hWjU3",
        "colab": {
          "base_uri": "https://localhost:8080/",
          "height": 304
        },
        "outputId": "61358412-431a-455e-e709-eb461d759071"
      },
      "source": [
        "import syft as sy"
      ],
      "execution_count": null,
      "outputs": [
        {
          "output_type": "error",
          "ename": "ModuleNotFoundError",
          "evalue": "ignored",
          "traceback": [
            "\u001b[0;31m---------------------------------------------------------------------------\u001b[0m",
            "\u001b[0;31mModuleNotFoundError\u001b[0m                       Traceback (most recent call last)",
            "\u001b[0;32m<ipython-input-3-281ee5c8ca5f>\u001b[0m in \u001b[0;36m<module>\u001b[0;34m()\u001b[0m\n\u001b[0;32m----> 1\u001b[0;31m \u001b[0;32mimport\u001b[0m \u001b[0msyft\u001b[0m \u001b[0;32mas\u001b[0m \u001b[0msy\u001b[0m\u001b[0;34m\u001b[0m\u001b[0;34m\u001b[0m\u001b[0m\n\u001b[0m",
            "\u001b[0;31mModuleNotFoundError\u001b[0m: No module named 'syft'",
            "",
            "\u001b[0;31m---------------------------------------------------------------------------\u001b[0;32m\nNOTE: If your import is failing due to a missing package, you can\nmanually install dependencies using either !pip or !apt.\n\nTo view examples of installing some common dependencies, click the\n\"Open Examples\" button below.\n\u001b[0;31m---------------------------------------------------------------------------\u001b[0m\n"
          ],
          "errorDetails": {
            "actions": [
              {
                "action": "open_url",
                "actionText": "Open Examples",
                "url": "/notebooks/snippets/importing_libraries.ipynb"
              }
            ]
          }
        }
      ]
    },
    {
      "cell_type": "code",
      "metadata": {
        "colab": {
          "base_uri": "https://localhost:8080/",
          "height": 1000
        },
        "id": "MSG3yDIKWjU3",
        "outputId": "e71a6c56-0ed4-4c18-d8c8-e9175e1e558c"
      },
      "source": [
        "pip install syft==0.2.9 --user"
      ],
      "execution_count": null,
      "outputs": [
        {
          "output_type": "stream",
          "name": "stdout",
          "text": [
            "Collecting syft==0.2.9\n",
            "  Using cached syft-0.2.9-py3-none-any.whl (433 kB)\n",
            "Collecting requests~=2.22.0\n",
            "  Downloading requests-2.22.0-py2.py3-none-any.whl (57 kB)\n",
            "\u001b[K     |████████████████████████████████| 57 kB 3.8 MB/s \n",
            "\u001b[?25hCollecting lz4~=3.0.2\n",
            "  Downloading lz4-3.0.2-cp37-cp37m-manylinux2010_x86_64.whl (1.8 MB)\n",
            "\u001b[K     |████████████████████████████████| 1.8 MB 19.5 MB/s \n",
            "\u001b[?25hRequirement already satisfied: msgpack~=1.0.0 in /usr/local/lib/python3.7/dist-packages (from syft==0.2.9) (1.0.2)\n",
            "Collecting tornado==4.5.3\n",
            "  Downloading tornado-4.5.3.tar.gz (484 kB)\n",
            "\u001b[K     |████████████████████████████████| 484 kB 69.4 MB/s \n",
            "\u001b[?25hRequirement already satisfied: Flask~=1.1.1 in /usr/local/lib/python3.7/dist-packages (from syft==0.2.9) (1.1.4)\n",
            "Collecting phe~=1.4.0\n",
            "  Downloading phe-1.4.0.tar.gz (35 kB)\n",
            "Collecting psutil==5.7.0\n",
            "  Downloading psutil-5.7.0.tar.gz (449 kB)\n",
            "\u001b[K     |████████████████████████████████| 449 kB 70.9 MB/s \n",
            "\u001b[?25hCollecting torch~=1.4.0\n",
            "  Downloading torch-1.4.0-cp37-cp37m-manylinux1_x86_64.whl (753.4 MB)\n",
            "\u001b[K     |████████████████████████████████| 753.4 MB 6.9 kB/s \n",
            "\u001b[?25hCollecting aiortc==0.9.28\n",
            "\u001b[33m  WARNING: Retrying (Retry(total=4, connect=None, read=None, redirect=None, status=None)) after connection broken by 'ProtocolError('Connection aborted.', ConnectionResetError(104, 'Connection reset by peer'))': /packages/df/c5/0c15e562c5ea1531e8c7db1bcd524e53619cc27a228f3f28d2ba55544d38/aiortc-0.9.28-cp37-cp37m-manylinux2010_x86_64.whl\u001b[0m\n",
            "  Downloading aiortc-0.9.28-cp37-cp37m-manylinux2010_x86_64.whl (2.0 MB)\n",
            "\u001b[K     |████████████████████████████████| 2.0 MB 8.1 MB/s \n",
            "\u001b[?25hRequirement already satisfied: Pillow>=7.1.0 in /usr/local/lib/python3.7/dist-packages (from syft==0.2.9) (7.1.2)\n",
            "Collecting importlib-resources~=1.5.0\n",
            "  Downloading importlib_resources-1.5.0-py2.py3-none-any.whl (21 kB)\n",
            "Collecting RestrictedPython~=5.0\n",
            "  Downloading RestrictedPython-5.2-py2.py3-none-any.whl (28 kB)\n",
            "Collecting requests-toolbelt==0.9.1\n",
            "  Downloading requests_toolbelt-0.9.1-py2.py3-none-any.whl (54 kB)\n",
            "\u001b[K     |████████████████████████████████| 54 kB 3.0 MB/s \n",
            "\u001b[?25hRequirement already satisfied: dill~=0.3.1 in /usr/local/lib/python3.7/dist-packages (from syft==0.2.9) (0.3.4)\n",
            "Collecting flask-socketio~=4.2.1\n",
            "  Downloading Flask_SocketIO-4.2.1-py2.py3-none-any.whl (16 kB)\n",
            "Collecting websockets~=8.1.0\n",
            "  Downloading websockets-8.1-cp37-cp37m-manylinux2010_x86_64.whl (79 kB)\n",
            "\u001b[K     |████████████████████████████████| 79 kB 7.7 MB/s \n",
            "\u001b[?25hRequirement already satisfied: scipy~=1.4.1 in /usr/local/lib/python3.7/dist-packages (from syft==0.2.9) (1.4.1)\n",
            "Collecting openmined.threepio==0.2.0\n",
            "  Downloading openmined.threepio-0.2.0.tar.gz (73 kB)\n",
            "\u001b[K     |████████████████████████████████| 73 kB 2.1 MB/s \n",
            "\u001b[?25hCollecting notebook==5.7.8\n",
            "  Downloading notebook-5.7.8-py2.py3-none-any.whl (9.0 MB)\n",
            "\u001b[K     |████████████████████████████████| 9.0 MB 61.9 MB/s \n",
            "\u001b[?25hCollecting tblib~=1.6.0\n",
            "  Using cached tblib-1.6.0-py2.py3-none-any.whl (12 kB)\n",
            "Collecting websocket-client~=0.57.0\n",
            "  Downloading websocket_client-0.57.0-py2.py3-none-any.whl (200 kB)\n",
            "\u001b[K     |████████████████████████████████| 200 kB 72.0 MB/s \n",
            "\u001b[?25hCollecting numpy~=1.18.1\n",
            "  Downloading numpy-1.18.5-cp37-cp37m-manylinux1_x86_64.whl (20.1 MB)\n",
            "\u001b[K     |████████████████████████████████| 20.1 MB 1.3 MB/s \n",
            "\u001b[?25hCollecting shaloop==0.2.1-alpha.11\n",
            "  Downloading shaloop-0.2.1_alpha.11-py3-none-manylinux1_x86_64.whl (126 kB)\n",
            "\u001b[K     |████████████████████████████████| 126 kB 48.4 MB/s \n",
            "\u001b[?25hCollecting torchvision~=0.5.0\n",
            "  Downloading torchvision-0.5.0-cp37-cp37m-manylinux1_x86_64.whl (4.0 MB)\n",
            "\u001b[K     |████████████████████████████████| 4.0 MB 54.0 MB/s \n",
            "\u001b[?25hCollecting syft-proto~=0.5.2\n",
            "  Downloading syft_proto-0.5.3-py3-none-any.whl (66 kB)\n",
            "\u001b[K     |████████████████████████████████| 66 kB 4.0 MB/s \n",
            "\u001b[?25hCollecting cryptography>=2.2\n",
            "  Downloading cryptography-35.0.0-cp36-abi3-manylinux_2_24_x86_64.whl (3.5 MB)\n",
            "\u001b[K     |████████████████████████████████| 3.5 MB 45.2 MB/s \n",
            "\u001b[?25hCollecting pyee>=6.0.0\n",
            "  Downloading pyee-8.2.2-py2.py3-none-any.whl (12 kB)\n",
            "Requirement already satisfied: cffi>=1.0.0 in /usr/local/lib/python3.7/dist-packages (from aiortc==0.9.28->syft==0.2.9) (1.15.0)\n",
            "Collecting av<9.0.0,>=8.0.0\n",
            "  Downloading av-8.0.3-cp37-cp37m-manylinux2010_x86_64.whl (37.2 MB)\n",
            "\u001b[K     |████████████████████████████████| 37.2 MB 26 kB/s \n",
            "\u001b[?25hCollecting pylibsrtp>=0.5.6\n",
            "  Downloading pylibsrtp-0.6.8-cp37-cp37m-manylinux2010_x86_64.whl (75 kB)\n",
            "\u001b[K     |████████████████████████████████| 75 kB 3.9 MB/s \n",
            "\u001b[?25hCollecting crc32c\n",
            "  Downloading crc32c-2.2.post0-cp37-cp37m-manylinux2010_x86_64.whl (49 kB)\n",
            "\u001b[K     |████████████████████████████████| 49 kB 6.5 MB/s \n",
            "\u001b[?25hCollecting aioice<0.7.0,>=0.6.17\n",
            "  Downloading aioice-0.6.18-py3-none-any.whl (19 kB)\n",
            "Requirement already satisfied: jupyter-client>=5.2.0 in /usr/local/lib/python3.7/dist-packages (from notebook==5.7.8->syft==0.2.9) (5.3.5)\n",
            "Requirement already satisfied: pyzmq>=17 in /usr/local/lib/python3.7/dist-packages (from notebook==5.7.8->syft==0.2.9) (22.3.0)\n",
            "Requirement already satisfied: jinja2 in /usr/local/lib/python3.7/dist-packages (from notebook==5.7.8->syft==0.2.9) (2.11.3)\n",
            "Requirement already satisfied: traitlets>=4.2.1 in /usr/local/lib/python3.7/dist-packages (from notebook==5.7.8->syft==0.2.9) (5.1.1)\n",
            "Requirement already satisfied: ipython-genutils in /usr/local/lib/python3.7/dist-packages (from notebook==5.7.8->syft==0.2.9) (0.2.0)\n",
            "Requirement already satisfied: ipykernel in /usr/local/lib/python3.7/dist-packages (from notebook==5.7.8->syft==0.2.9) (4.10.1)\n",
            "Requirement already satisfied: terminado>=0.8.1 in /usr/local/lib/python3.7/dist-packages (from notebook==5.7.8->syft==0.2.9) (0.12.1)\n",
            "Requirement already satisfied: nbformat in /usr/local/lib/python3.7/dist-packages (from notebook==5.7.8->syft==0.2.9) (5.1.3)\n",
            "Requirement already satisfied: nbconvert in /usr/local/lib/python3.7/dist-packages (from notebook==5.7.8->syft==0.2.9) (5.6.1)\n",
            "Requirement already satisfied: prometheus-client in /usr/local/lib/python3.7/dist-packages (from notebook==5.7.8->syft==0.2.9) (0.12.0)\n",
            "Requirement already satisfied: jupyter-core>=4.4.0 in /usr/local/lib/python3.7/dist-packages (from notebook==5.7.8->syft==0.2.9) (4.9.1)\n",
            "Requirement already satisfied: Send2Trash in /usr/local/lib/python3.7/dist-packages (from notebook==5.7.8->syft==0.2.9) (1.8.0)\n",
            "Requirement already satisfied: pycparser>=2 in /usr/local/lib/python3.7/dist-packages (from shaloop==0.2.1-alpha.11->syft==0.2.9) (2.21)\n",
            "Collecting netifaces\n",
            "  Downloading netifaces-0.11.0-cp37-cp37m-manylinux_2_5_x86_64.manylinux1_x86_64.whl (32 kB)\n",
            "Requirement already satisfied: itsdangerous<2.0,>=0.24 in /usr/local/lib/python3.7/dist-packages (from Flask~=1.1.1->syft==0.2.9) (1.1.0)\n",
            "Requirement already satisfied: Werkzeug<2.0,>=0.15 in /usr/local/lib/python3.7/dist-packages (from Flask~=1.1.1->syft==0.2.9) (1.0.1)\n",
            "Requirement already satisfied: click<8.0,>=5.1 in /usr/local/lib/python3.7/dist-packages (from Flask~=1.1.1->syft==0.2.9) (7.1.2)\n",
            "Collecting python-socketio>=4.3.0\n",
            "  Downloading python_socketio-5.5.0-py3-none-any.whl (55 kB)\n",
            "\u001b[K     |████████████████████████████████| 55 kB 4.4 MB/s \n",
            "\u001b[?25hRequirement already satisfied: zipp>=0.4 in /usr/local/lib/python3.7/dist-packages (from importlib-resources~=1.5.0->syft==0.2.9) (3.6.0)\n",
            "Requirement already satisfied: importlib-metadata in /usr/local/lib/python3.7/dist-packages (from importlib-resources~=1.5.0->syft==0.2.9) (4.8.2)\n",
            "Requirement already satisfied: MarkupSafe>=0.23 in /usr/local/lib/python3.7/dist-packages (from jinja2->notebook==5.7.8->syft==0.2.9) (2.0.1)\n",
            "Requirement already satisfied: python-dateutil>=2.1 in /usr/local/lib/python3.7/dist-packages (from jupyter-client>=5.2.0->notebook==5.7.8->syft==0.2.9) (2.8.2)\n",
            "Requirement already satisfied: six>=1.5 in /usr/local/lib/python3.7/dist-packages (from python-dateutil>=2.1->jupyter-client>=5.2.0->notebook==5.7.8->syft==0.2.9) (1.15.0)\n",
            "Collecting python-engineio>=4.3.0\n",
            "  Downloading python_engineio-4.3.0-py3-none-any.whl (52 kB)\n",
            "\u001b[K     |████████████████████████████████| 52 kB 1.4 MB/s \n",
            "\u001b[?25hCollecting bidict>=0.21.0\n",
            "  Downloading bidict-0.21.4-py3-none-any.whl (36 kB)\n",
            "Requirement already satisfied: chardet<3.1.0,>=3.0.2 in /usr/local/lib/python3.7/dist-packages (from requests~=2.22.0->syft==0.2.9) (3.0.4)\n",
            "Requirement already satisfied: certifi>=2017.4.17 in /usr/local/lib/python3.7/dist-packages (from requests~=2.22.0->syft==0.2.9) (2021.10.8)\n",
            "Requirement already satisfied: urllib3!=1.25.0,!=1.25.1,<1.26,>=1.21.1 in /usr/local/lib/python3.7/dist-packages (from requests~=2.22.0->syft==0.2.9) (1.24.3)\n",
            "Collecting idna<2.9,>=2.5\n",
            "  Downloading idna-2.8-py2.py3-none-any.whl (58 kB)\n",
            "\u001b[K     |████████████████████████████████| 58 kB 6.7 MB/s \n",
            "\u001b[?25hRequirement already satisfied: protobuf>=3.12.2 in /usr/local/lib/python3.7/dist-packages (from syft-proto~=0.5.2->syft==0.2.9) (3.17.3)\n",
            "Requirement already satisfied: ptyprocess in /usr/local/lib/python3.7/dist-packages (from terminado>=0.8.1->notebook==5.7.8->syft==0.2.9) (0.7.0)\n",
            "Requirement already satisfied: typing-extensions>=3.6.4 in /usr/local/lib/python3.7/dist-packages (from importlib-metadata->importlib-resources~=1.5.0->syft==0.2.9) (3.10.0.2)\n",
            "Requirement already satisfied: ipython>=4.0.0 in /usr/local/lib/python3.7/dist-packages (from ipykernel->notebook==5.7.8->syft==0.2.9) (5.5.0)\n",
            "Requirement already satisfied: decorator in /usr/local/lib/python3.7/dist-packages (from ipython>=4.0.0->ipykernel->notebook==5.7.8->syft==0.2.9) (4.4.2)\n",
            "Requirement already satisfied: pickleshare in /usr/local/lib/python3.7/dist-packages (from ipython>=4.0.0->ipykernel->notebook==5.7.8->syft==0.2.9) (0.7.5)\n",
            "Requirement already satisfied: pexpect in /usr/local/lib/python3.7/dist-packages (from ipython>=4.0.0->ipykernel->notebook==5.7.8->syft==0.2.9) (4.8.0)\n",
            "Requirement already satisfied: prompt-toolkit<2.0.0,>=1.0.4 in /usr/local/lib/python3.7/dist-packages (from ipython>=4.0.0->ipykernel->notebook==5.7.8->syft==0.2.9) (1.0.18)\n",
            "Requirement already satisfied: setuptools>=18.5 in /usr/local/lib/python3.7/dist-packages (from ipython>=4.0.0->ipykernel->notebook==5.7.8->syft==0.2.9) (57.4.0)\n",
            "Requirement already satisfied: simplegeneric>0.8 in /usr/local/lib/python3.7/dist-packages (from ipython>=4.0.0->ipykernel->notebook==5.7.8->syft==0.2.9) (0.8.1)\n",
            "Requirement already satisfied: pygments in /usr/local/lib/python3.7/dist-packages (from ipython>=4.0.0->ipykernel->notebook==5.7.8->syft==0.2.9) (2.6.1)\n",
            "Requirement already satisfied: wcwidth in /usr/local/lib/python3.7/dist-packages (from prompt-toolkit<2.0.0,>=1.0.4->ipython>=4.0.0->ipykernel->notebook==5.7.8->syft==0.2.9) (0.2.5)\n",
            "Requirement already satisfied: bleach in /usr/local/lib/python3.7/dist-packages (from nbconvert->notebook==5.7.8->syft==0.2.9) (4.1.0)\n",
            "Requirement already satisfied: pandocfilters>=1.4.1 in /usr/local/lib/python3.7/dist-packages (from nbconvert->notebook==5.7.8->syft==0.2.9) (1.5.0)\n",
            "Requirement already satisfied: defusedxml in /usr/local/lib/python3.7/dist-packages (from nbconvert->notebook==5.7.8->syft==0.2.9) (0.7.1)\n",
            "Requirement already satisfied: entrypoints>=0.2.2 in /usr/local/lib/python3.7/dist-packages (from nbconvert->notebook==5.7.8->syft==0.2.9) (0.3)\n",
            "Requirement already satisfied: testpath in /usr/local/lib/python3.7/dist-packages (from nbconvert->notebook==5.7.8->syft==0.2.9) (0.5.0)\n",
            "Requirement already satisfied: mistune<2,>=0.8.1 in /usr/local/lib/python3.7/dist-packages (from nbconvert->notebook==5.7.8->syft==0.2.9) (0.8.4)\n",
            "Requirement already satisfied: jsonschema!=2.5.0,>=2.4 in /usr/local/lib/python3.7/dist-packages (from nbformat->notebook==5.7.8->syft==0.2.9) (2.6.0)\n",
            "Requirement already satisfied: webencodings in /usr/local/lib/python3.7/dist-packages (from bleach->nbconvert->notebook==5.7.8->syft==0.2.9) (0.5.1)\n",
            "Requirement already satisfied: packaging in /usr/local/lib/python3.7/dist-packages (from bleach->nbconvert->notebook==5.7.8->syft==0.2.9) (21.3)\n",
            "Requirement already satisfied: pyparsing!=3.0.5,>=2.0.2 in /usr/local/lib/python3.7/dist-packages (from packaging->bleach->nbconvert->notebook==5.7.8->syft==0.2.9) (3.0.6)\n",
            "Building wheels for collected packages: openmined.threepio, psutil, tornado, phe\n",
            "  Building wheel for openmined.threepio (setup.py) ... \u001b[?25l\u001b[?25hdone\n",
            "  Created wheel for openmined.threepio: filename=openmined.threepio-0.2.0-py3-none-any.whl size=80095 sha256=131a25947b539e491d695b2acc1ab5ae810a57488e20df464785a9b807b31c8e\n",
            "  Stored in directory: /root/.cache/pip/wheels/97/3d/ce/4ca4386006e622cb87d5116e5e65026ec021d3cf906a9b3d5d\n",
            "  Building wheel for psutil (setup.py) ... \u001b[?25l\u001b[?25hdone\n",
            "  Created wheel for psutil: filename=psutil-5.7.0-cp37-cp37m-linux_x86_64.whl size=276502 sha256=8e4d0abb2c82a57ba0a729e7f597d8e46c9a17be088e453d61b96f61750d08ca\n",
            "  Stored in directory: /root/.cache/pip/wheels/b6/e7/50/aee9cc966163d74430f13f208171dee22f11efa4a4a826661c\n",
            "  Building wheel for tornado (setup.py) ... \u001b[?25l\u001b[?25hdone\n",
            "  Created wheel for tornado: filename=tornado-4.5.3-cp37-cp37m-linux_x86_64.whl size=434059 sha256=42bceaab45f3e59b45af76486c77d151ff8cda34b6f98ed6e87dab4e54ebfd7c\n",
            "  Stored in directory: /root/.cache/pip/wheels/a2/45/43/36ec7a893e16c1212a6b1505ded0a2d73cf8e863a0227c8e04\n",
            "  Building wheel for phe (setup.py) ... \u001b[?25l\u001b[?25hdone\n",
            "  Created wheel for phe: filename=phe-1.4.0-py2.py3-none-any.whl size=37362 sha256=a0368b763749fe0974c193d7f58f931cf8d5919721463a5a6a2801133949aa43\n",
            "  Stored in directory: /root/.cache/pip/wheels/bb/ac/9b/b07a04fe6bb1418ab4ee06d6652757aef848b80363c4dac507\n",
            "Successfully built openmined.threepio psutil tornado phe\n",
            "Installing collected packages: tornado, python-engineio, netifaces, idna, bidict, torch, requests, python-socketio, pylibsrtp, pyee, numpy, cryptography, crc32c, av, aioice, websockets, websocket-client, torchvision, tblib, syft-proto, shaloop, RestrictedPython, requests-toolbelt, psutil, phe, openmined.threepio, notebook, lz4, importlib-resources, flask-socketio, aiortc, syft\n",
            "\u001b[33m  WARNING: The scripts convert-caffe2-to-onnx and convert-onnx-to-caffe2 are installed in '/root/.local/bin' which is not on PATH.\n",
            "  Consider adding this directory to PATH or, if you prefer to suppress this warning, use --no-warn-script-location.\u001b[0m\n",
            "\u001b[33m  WARNING: The scripts f2py, f2py3 and f2py3.7 are installed in '/root/.local/bin' which is not on PATH.\n",
            "  Consider adding this directory to PATH or, if you prefer to suppress this warning, use --no-warn-script-location.\u001b[0m\n",
            "\u001b[33m  WARNING: The script pyav is installed in '/root/.local/bin' which is not on PATH.\n",
            "  Consider adding this directory to PATH or, if you prefer to suppress this warning, use --no-warn-script-location.\u001b[0m\n",
            "\u001b[33m  WARNING: The script pheutil is installed in '/root/.local/bin' which is not on PATH.\n",
            "  Consider adding this directory to PATH or, if you prefer to suppress this warning, use --no-warn-script-location.\u001b[0m\n",
            "\u001b[33m  WARNING: The scripts jupyter-bundlerextension, jupyter-nbextension, jupyter-notebook and jupyter-serverextension are installed in '/root/.local/bin' which is not on PATH.\n",
            "  Consider adding this directory to PATH or, if you prefer to suppress this warning, use --no-warn-script-location.\u001b[0m\n",
            "\u001b[31mERROR: pip's dependency resolver does not currently take into account all the packages that are installed. This behaviour is the source of the following dependency conflicts.\n",
            "torchtext 0.11.0 requires torch==1.10.0, but you have torch 1.4.0 which is incompatible.\n",
            "torchaudio 0.10.0+cu111 requires torch==1.10.0, but you have torch 1.4.0 which is incompatible.\n",
            "google-colab 1.0.0 requires notebook~=5.3.0; python_version >= \"3.0\", but you have notebook 5.7.8 which is incompatible.\n",
            "google-colab 1.0.0 requires requests~=2.23.0, but you have requests 2.22.0 which is incompatible.\n",
            "google-colab 1.0.0 requires tornado~=5.1.0; python_version >= \"3.0\", but you have tornado 4.5.3 which is incompatible.\n",
            "datascience 0.10.6 requires folium==0.2.1, but you have folium 0.8.3 which is incompatible.\n",
            "bokeh 2.3.3 requires tornado>=5.1, but you have tornado 4.5.3 which is incompatible.\n",
            "albumentations 0.1.12 requires imgaug<0.2.7,>=0.2.5, but you have imgaug 0.2.9 which is incompatible.\u001b[0m\n",
            "Successfully installed RestrictedPython-5.2 aioice-0.6.18 aiortc-0.9.28 av-8.0.3 bidict-0.21.4 crc32c-2.2.post0 cryptography-35.0.0 flask-socketio-4.2.1 idna-2.8 importlib-resources-1.5.0 lz4-3.0.2 netifaces-0.11.0 notebook-5.7.8 numpy-1.18.5 openmined.threepio-0.2.0 phe-1.4.0 psutil-5.7.0 pyee-8.2.2 pylibsrtp-0.6.8 python-engineio-4.3.0 python-socketio-5.5.0 requests-2.22.0 requests-toolbelt-0.9.1 shaloop-0.2.1a11 syft-0.2.9 syft-proto-0.5.3 tblib-1.6.0 torch-1.4.0 torchvision-0.5.0 tornado-4.5.3 websocket-client-0.57.0 websockets-8.1\n"
          ]
        },
        {
          "output_type": "display_data",
          "data": {
            "application/vnd.colab-display-data+json": {
              "pip_warning": {
                "packages": [
                  "numpy",
                  "psutil",
                  "torch",
                  "torchvision",
                  "tornado"
                ]
              }
            }
          },
          "metadata": {}
        }
      ]
    },
    {
      "cell_type": "code",
      "metadata": {
        "id": "8xwNRo7GWjU4"
      },
      "source": [
        "import torch as th\n",
        "import numpy as np\n",
        "from torchvision import datasets, transforms\n",
        "import torchvision.datasets as datasets\n",
        "from torch.utils.data import Subset\n",
        "from torch import nn\n",
        "import torch.nn.functional as F\n",
        "from torch import optim\n",
        "import syft as sy\n",
        "import helper"
      ],
      "execution_count": null,
      "outputs": []
    },
    {
      "cell_type": "code",
      "metadata": {
        "id": "YiAAuhEsWjU4"
      },
      "source": [
        "hook = sy.TorchHook(th)"
      ],
      "execution_count": null,
      "outputs": []
    },
    {
      "cell_type": "code",
      "metadata": {
        "id": "HUk7x00TiLtx"
      },
      "source": [
        ""
      ],
      "execution_count": null,
      "outputs": []
    },
    {
      "cell_type": "code",
      "metadata": {
        "id": "yvugB6mDZZVO"
      },
      "source": [
        "\n",
        "#Method to create 10 virtual workers and move to a list of workers\n",
        "def create_workers():\n",
        "  workers = []\n",
        "  WORKER1 = sy.VirtualWorker(hook, id = \"WORKER1\")\n",
        "  workers.append(WORKER1)\n",
        "  WORKER2 = sy.VirtualWorker(hook, id = \"WORKER2\")\n",
        "  workers.append(WORKER2)\n",
        "  WORKER3 = sy.VirtualWorker(hook, id = \"WORKER3\")\n",
        "  workers.append(WORKER3)\n",
        "  WORKER4 = sy.VirtualWorker(hook, id = \"WORKER4\")\n",
        "  workers.append(WORKER4)\n",
        "  \n",
        "  return workers"
      ],
      "execution_count": null,
      "outputs": []
    },
    {
      "cell_type": "code",
      "metadata": {
        "id": "xbn0E5CIZqxp"
      },
      "source": [
        "\n",
        "#Method to clear out every tensor stored in the list of virtual workers\n",
        "def clear_workers(workers):\n",
        "  for worker in workers:\n",
        "    worker.clear_objects()"
      ],
      "execution_count": null,
      "outputs": []
    },
    {
      "cell_type": "code",
      "metadata": {
        "id": "lbWm2F4SZuIF"
      },
      "source": [
        "\n",
        "#Method to split the mnist test dataset into the various workers and also to load the mnist test dataset into a test loader\n",
        "def create_federated_and_test_loaders(workers, trainset, testset):\n",
        "  federated_train_loader = sy.FederatedDataLoader(trainset.federate(workers), batch_size=32, shuffle=True)\n",
        "\n",
        "  test_loader = th.utils.data.DataLoader(testset, batch_size=64, shuffle=False)\n",
        "  return federated_train_loader, test_loader"
      ],
      "execution_count": null,
      "outputs": []
    },
    {
      "cell_type": "markdown",
      "metadata": {
        "id": "lHd4jITFkosT"
      },
      "source": [
        ""
      ]
    },
    {
      "cell_type": "code",
      "metadata": {
        "id": "R-Pu6THcZ5rQ"
      },
      "source": [
        "#Method to bind remote optimizer functions to the Initial states of the remote models \n",
        "def create_models(workers, lr):\n",
        "  remoteModels = list()\n",
        "  remoteOptimizers = list()\n",
        "  for worker in workers:\n",
        "    model = classifier()\n",
        "    model = model.send(worker)\n",
        "    remoteOptimizers.append(optim.SGD(model.parameters(), lr))\n",
        "    remoteModels.append(model)\n",
        "  return remoteModels, remoteOptimizers"
      ],
      "execution_count": null,
      "outputs": []
    },
    {
      "cell_type": "code",
      "metadata": {
        "id": "GKmFvvADZ5wI"
      },
      "source": [
        "#Method to train models on the virtual workers without moving any gradients to the central model until the gradients have been collated.\n",
        "def create_train_federated_models(workers, loader, lr = 0.12, epoch = 5):\n",
        "  #sends model to first virtual worker\n",
        "  virtual_models, virtual_optimizers = create_models(workers, lr)\n",
        "#   virtual_model = classifier().send(workers[0])\n",
        "#   optimizer = optim.SGD(virtual_model.parameters(), lr)\n",
        "  criterion = nn.NLLLoss()\n",
        "  for n in range(epoch):\n",
        "    \n",
        "    #Integer to keep up with first index.\n",
        "    i = 0\n",
        "    \n",
        "    #Integer to keep up with current worker while training\n",
        "    j = 0\n",
        "    \n",
        "    #Integer to count number of mini-batches per worker\n",
        "    n_mbatch = 0\n",
        "    \n",
        "    #Variable to keep up with current worker while looping\n",
        "    dbLoc = None\n",
        "    \n",
        "    #Variable to store cummulative loss.\n",
        "    cum_loss = 0\n",
        "    \n",
        "    \n",
        "    for batch_idx, (imgs, labels) in enumerate(loader):\n",
        "      \n",
        "      #condition to set dbLoc to the first worker\n",
        "      if i == 0:\n",
        "        i = 2\n",
        "        dbLoc = imgs.location\n",
        "        \n",
        "      #condition to change dbLoc if img is stored on a different worker and also calculate loss\n",
        "      if dbLoc is not imgs.location:\n",
        "        print(\"The total loss for {0} for epoch {2} is {1}\".format(workers[j].id, cum_loss / n_mbatch, n+1))\n",
        "        dbLoc = imgs.location\n",
        "        j += 1\n",
        "        \n",
        "        #Moving the model to a new worker\n",
        "#         virtual_model.move(dbLoc)\n",
        "        \n",
        "        #Resetting the cummulative loss and batch count to zero for new worker\n",
        "        cum_loss = 0\n",
        "        n_mbatch = 0\n",
        "\n",
        "      virtual_optimizers[j].zero_grad()\n",
        "      output = virtual_models[j].forward(imgs)\n",
        "      loss = criterion(output, labels)\n",
        "      loss.backward()\n",
        "      virtual_optimizers[j].step()\n",
        "      cum_loss +=  loss.get().item()\n",
        "      n_mbatch += 1\n",
        "    print(\"The total loss for {0} is {1}\".format(workers[j].id, cum_loss / n_mbatch))\n",
        "  return virtual_models"
      ],
      "execution_count": null,
      "outputs": []
    },
    {
      "cell_type": "code",
      "metadata": {
        "id": "-p6DPErbaIWp"
      },
      "source": [
        "#Method to return the model to the central machine\n",
        "def create_central_model(model):\n",
        "  return model.get()"
      ],
      "execution_count": null,
      "outputs": []
    },
    {
      "cell_type": "code",
      "metadata": {
        "id": "wmMYs_htaKbd"
      },
      "source": [
        "\n",
        "#Method to convert the gradients of the remote models to their integar representation, encrypt and distribute among the provided workers\n",
        "def share_gradients(models, workers):\n",
        "  for model in models:\n",
        "    model.fc1.weight.data = model.fc1.weight.data.fix_prec().share(*workers)\n",
        "    model.fc1.bias.data = model.fc1.bias.data.fix_prec().share(*workers)\n",
        "    model.fc2.weight.data = model.fc2.weight.data.fix_prec().share(*workers)\n",
        "    model.fc2.bias.data = model.fc2.bias.data.fix_prec().share(*workers)\n",
        "    model.fc3.weight.data = model.fc3.weight.data.fix_prec().share(*workers)\n",
        "    model.fc3.bias.data = model.fc3.bias.data.fix_prec().share(*workers)\n",
        "    model.fc4.weight.data = model.fc4.weight.data.fix_prec().share(*workers)\n",
        "    model.fc4.bias.data = model.fc4.bias.data.fix_prec().share(*workers)\n",
        "    model.fc5.weight.data = model.fc5.weight.data.fix_prec().share(*workers)\n",
        "    model.fc5.bias.data = model.fc5.bias.data.fix_prec().share(*workers)   \n",
        "  return models"
      ],
      "execution_count": null,
      "outputs": []
    },
    {
      "cell_type": "code",
      "metadata": {
        "id": "Na0iuTqAaNET"
      },
      "source": [
        "#Method to aggregate the gradients accross the shared devices and return the parameters\n",
        "def aggregate_grads(models):\n",
        "  fc1_weight = list()\n",
        "  fc1_bias = list()\n",
        "  fc2_weight = list()\n",
        "  fc2_bias = list()\n",
        "  fc3_weight = list()\n",
        "  fc3_bias = list()\n",
        "  fc4_weight = list()\n",
        "  fc4_bias = list()\n",
        "  fc5_weight = list()\n",
        "  fc5_bias = list()\n",
        "  for model in models:\n",
        "    fc1_weight.append(model.fc1.weight.data.clone().get())\n",
        "    fc1_bias.append(model.fc1.bias.data.clone().get())\n",
        "    fc2_weight.append(model.fc2.weight.data.clone().get())\n",
        "    fc2_bias.append(model.fc2.bias.data.clone().get())\n",
        "    fc3_weight.append(model.fc3.weight.data.clone().get())\n",
        "    fc3_bias.append(model.fc3.bias.data.clone().get())\n",
        "    fc4_weight.append(model.fc4.weight.data.clone().get())\n",
        "    fc4_bias.append(model.fc4.bias.data.clone().get())\n",
        "    fc5_weight.append(model.fc5.weight.data.clone().get())\n",
        "    fc5_bias.append(model.fc5.bias.data.clone().get())\n",
        "  params = {}\n",
        "  params[\"fc1.weight\"] = (sum(fc1_weight) / len(fc1_weight)).get().float_prec()\n",
        "  params[\"fc1.bias\"] = (sum(fc1_bias) / len(fc1_bias)).get().float_prec()\n",
        "  params[\"fc2.weight\"] = (sum(fc2_weight) / len(fc2_weight)).get().float_prec()\n",
        "  params[\"fc2.bias\"] = (sum(fc2_bias) / len(fc2_bias)).get().float_prec()\n",
        "  params[\"fc3.weight\"] = (sum(fc3_weight) / len(fc3_weight)).get().float_prec()\n",
        "  params[\"fc3.bias\"] = (sum(fc3_bias) / len(fc3_bias)).get().float_prec()\n",
        "  params[\"fc4.weight\"] = (sum(fc4_weight) / len(fc4_weight)).get().float_prec()\n",
        "  params[\"fc4.bias\"] = (sum(fc4_bias) / len(fc4_bias)).get().float_prec()\n",
        "  params[\"fc5.weight\"] = (sum(fc5_weight) / len(fc5_weight)).get().float_prec()\n",
        "  params[\"fc5.bias\"] = (sum(fc5_bias) / len(fc5_bias)).get().float_prec()\n",
        "  return params"
      ],
      "execution_count": null,
      "outputs": []
    },
    {
      "cell_type": "code",
      "metadata": {
        "id": "qc7r2EO_aOiS"
      },
      "source": [
        "\n",
        "#Method to update the central model with the aggregated parameters from the remote models\n",
        "def update_central_model(params):\n",
        "  model = classifier()\n",
        "  model.fc1.weight.data = params[\"fc1.weight\"]\n",
        "  model.fc1.bias.data = params[\"fc1.bias\"]\n",
        "  model.fc2.weight.data = params[\"fc2.weight\"]\n",
        "  model.fc2.bias.data = params[\"fc2.bias\"]\n",
        "  model.fc3.weight.data = params[\"fc3.weight\"]\n",
        "  model.fc3.bias.data = params[\"fc3.bias\"]\n",
        "  model.fc4.weight.data = params[\"fc4.weight\"]\n",
        "  model.fc4.bias.data = params[\"fc4.bias\"]\n",
        "  model.fc5.weight.data = params[\"fc5.weight\"]\n",
        "  model.fc5.bias.data = params[\"fc5.bias\"]  \n",
        "  return model"
      ],
      "execution_count": null,
      "outputs": []
    },
    {
      "cell_type": "code",
      "metadata": {
        "id": "ebq7xaqcaZDz"
      },
      "source": [
        "#Classifier for creating the models\n",
        "class classifier(nn.Module):\n",
        "  def __init__(self):\n",
        "    super().__init__() \n",
        "    self.fc1 = nn.Linear(784, 256)\n",
        "    self.fc2 = nn.Linear(256, 128)\n",
        "    self.fc3 = nn.Linear(128, 64)\n",
        "    self.fc4 = nn.Linear(64, 32)\n",
        "    self.fc5 = nn.Linear(32, 10)\n",
        "    \n",
        "  def forward(self, x):\n",
        "    x = x.view(x.shape[0], -1)\n",
        "    x = F.relu(self.fc1(x))\n",
        "    x = F.relu(self.fc2(x))\n",
        "    x = F.relu(self.fc3(x))\n",
        "    x = F.relu(self.fc4(x))\n",
        "    x = F.log_softmax(self.fc5(x), dim = 1)   \n",
        "    return x"
      ],
      "execution_count": null,
      "outputs": []
    },
    {
      "cell_type": "code",
      "metadata": {
        "id": "pTeFiGM4adIf"
      },
      "source": [
        "# Application of transforms to normalize the mnist data\n",
        "transform = transforms.Compose([transforms.ToTensor(),\n",
        "                                transforms.Normalize((0.5,), (0.5,))])\n",
        "fmnist_trainset = datasets.FashionMNIST('../fashion_data', train=True, download=True, transform=transform)\n",
        "fmnist_testset = datasets.FashionMNIST('../fashion_data', train=False, download=True, transform=transform)"
      ],
      "execution_count": null,
      "outputs": []
    },
    {
      "cell_type": "code",
      "metadata": {
        "id": "1RSKDVWwadKS"
      },
      "source": [
        "workers = create_workers()\n",
        "clear_workers(workers)"
      ],
      "execution_count": null,
      "outputs": []
    },
    {
      "cell_type": "code",
      "metadata": {
        "colab": {
          "base_uri": "https://localhost:8080/"
        },
        "id": "SdMxTaiMkRV4",
        "outputId": "40cbe96f-ce10-4387-d934-ead515f5b13f"
      },
      "source": [
        "workers"
      ],
      "execution_count": null,
      "outputs": [
        {
          "output_type": "execute_result",
          "data": {
            "text/plain": [
              "[<VirtualWorker id:WORKER1 #objects:0>,\n",
              " <VirtualWorker id:WORKER2 #objects:0>,\n",
              " <VirtualWorker id:WORKER3 #objects:0>,\n",
              " <VirtualWorker id:WORKER4 #objects:0>]"
            ]
          },
          "metadata": {},
          "execution_count": 16
        }
      ]
    },
    {
      "cell_type": "code",
      "metadata": {
        "id": "OcipIwTjadMl"
      },
      "source": [
        "federatedset, testset= create_federated_and_test_loaders(workers, fmnist_trainset, fmnist_testset)"
      ],
      "execution_count": null,
      "outputs": []
    },
    {
      "cell_type": "code",
      "metadata": {
        "colab": {
          "base_uri": "https://localhost:8080/"
        },
        "id": "_UsHeJxNadP_",
        "outputId": "203ef749-91af-4927-d94d-de20e6f33aea"
      },
      "source": [
        "remoteModels = create_train_federated_models(workers, federatedset, lr = 0.12, epoch = 3)"
      ],
      "execution_count": null,
      "outputs": [
        {
          "output_type": "stream",
          "name": "stdout",
          "text": [
            "The total loss for WORKER1 for epoch 1 is 1.0274843609155113\n",
            "The total loss for WORKER2 for epoch 1 is 1.0931516173424751\n",
            "The total loss for WORKER3 for epoch 1 is 1.071390764990341\n",
            "The total loss for WORKER4 is 1.038315740411978\n",
            "The total loss for WORKER1 for epoch 2 is 0.5777010698753126\n",
            "The total loss for WORKER2 for epoch 2 is 0.595939646334028\n",
            "The total loss for WORKER3 for epoch 2 is 0.5741811497633391\n",
            "The total loss for WORKER4 is 0.5804882212234205\n",
            "The total loss for WORKER1 for epoch 3 is 0.49270271306543717\n",
            "The total loss for WORKER2 for epoch 3 is 0.5060869962421816\n",
            "The total loss for WORKER3 for epoch 3 is 0.485176507391528\n",
            "The total loss for WORKER4 is 0.5001787851169419\n"
          ]
        }
      ]
    },
    {
      "cell_type": "code",
      "metadata": {
        "id": "MsYtc5-3a9QC"
      },
      "source": [
        "remoteModels = share_gradients(remoteModels, workers[0:4])\n"
      ],
      "execution_count": null,
      "outputs": []
    },
    {
      "cell_type": "code",
      "metadata": {
        "id": "I9RgRquqa9Rv"
      },
      "source": [
        "params  = aggregate_grads(remoteModels)\n"
      ],
      "execution_count": null,
      "outputs": []
    },
    {
      "cell_type": "code",
      "metadata": {
        "id": "xU0eQi6Ka9VI",
        "colab": {
          "base_uri": "https://localhost:8080/"
        },
        "outputId": "a52bb140-da27-433f-e1c3-e544678fb9bc"
      },
      "source": [
        "remoteModels"
      ],
      "execution_count": null,
      "outputs": [
        {
          "output_type": "execute_result",
          "data": {
            "text/plain": [
              "[classifier(\n",
              "   (fc1): Linear(in_features=784, out_features=256, bias=True)\n",
              "   (fc2): Linear(in_features=256, out_features=128, bias=True)\n",
              "   (fc3): Linear(in_features=128, out_features=64, bias=True)\n",
              "   (fc4): Linear(in_features=64, out_features=32, bias=True)\n",
              "   (fc5): Linear(in_features=32, out_features=10, bias=True)\n",
              " ), classifier(\n",
              "   (fc1): Linear(in_features=784, out_features=256, bias=True)\n",
              "   (fc2): Linear(in_features=256, out_features=128, bias=True)\n",
              "   (fc3): Linear(in_features=128, out_features=64, bias=True)\n",
              "   (fc4): Linear(in_features=64, out_features=32, bias=True)\n",
              "   (fc5): Linear(in_features=32, out_features=10, bias=True)\n",
              " ), classifier(\n",
              "   (fc1): Linear(in_features=784, out_features=256, bias=True)\n",
              "   (fc2): Linear(in_features=256, out_features=128, bias=True)\n",
              "   (fc3): Linear(in_features=128, out_features=64, bias=True)\n",
              "   (fc4): Linear(in_features=64, out_features=32, bias=True)\n",
              "   (fc5): Linear(in_features=32, out_features=10, bias=True)\n",
              " ), classifier(\n",
              "   (fc1): Linear(in_features=784, out_features=256, bias=True)\n",
              "   (fc2): Linear(in_features=256, out_features=128, bias=True)\n",
              "   (fc3): Linear(in_features=128, out_features=64, bias=True)\n",
              "   (fc4): Linear(in_features=64, out_features=32, bias=True)\n",
              "   (fc5): Linear(in_features=32, out_features=10, bias=True)\n",
              " )]"
            ]
          },
          "metadata": {},
          "execution_count": 28
        }
      ]
    },
    {
      "cell_type": "code",
      "metadata": {
        "colab": {
          "base_uri": "https://localhost:8080/"
        },
        "id": "5jiO9eJsjeJR",
        "outputId": "7dd1af17-6df6-42c3-b715-53167e440274"
      },
      "source": [
        "params"
      ],
      "execution_count": null,
      "outputs": [
        {
          "output_type": "execute_result",
          "data": {
            "text/plain": [
              "{'fc1.bias': tensor([ 4.6117e+15, -1.9000e-02, -2.0000e-03,  4.6117e+15, -6.0000e-03,\n",
              "         -7.0000e-03, -4.6117e+15, -1.3000e-02, -5.0000e-03,  4.6117e+15,\n",
              "         -1.0000e-02,  4.6117e+15, -8.0000e-03,  4.6117e+15, -4.0000e-03,\n",
              "         -1.0000e-02, -2.0000e-03, -1.1000e-02,  1.0000e-03,  4.6117e+15,\n",
              "          0.0000e+00, -4.6117e+15, -4.6117e+15,  1.1000e-02,  5.0000e-03,\n",
              "          4.6117e+15, -2.0000e-02,  4.6117e+15, -1.9000e-02, -4.0000e-03,\n",
              "         -1.1000e-02, -2.0000e-03, -4.6117e+15,  4.6117e+15,  1.3000e-02,\n",
              "          7.0000e-03,  4.6117e+15, -2.2000e-02,  4.6117e+15, -1.8000e-02,\n",
              "         -1.3000e-02,  1.3000e-02, -1.1000e-02, -1.0000e-03, -3.0000e-03,\n",
              "         -6.0000e-03, -4.6117e+15,  1.8000e-02,  4.6117e+15, -1.5000e-02,\n",
              "         -1.2000e-02, -4.6117e+15,  0.0000e+00, -4.6117e+15,  4.6117e+15,\n",
              "          4.6117e+15,  4.6117e+15, -1.0000e-02, -3.0000e-03,  4.6117e+15,\n",
              "         -1.2000e-02,  4.6117e+15, -4.6117e+15, -4.6117e+15, -8.0000e-03,\n",
              "         -1.3000e-02, -1.5000e-02,  4.6117e+15,  1.8000e-02,  2.1000e-02,\n",
              "         -2.3000e-02,  4.0000e-03,  3.0000e-03, -4.6117e+15, -4.6117e+15,\n",
              "         -2.3000e-02, -9.0000e-03,  4.6117e+15, -4.6117e+15, -1.9000e-02,\n",
              "          0.0000e+00,  4.6117e+15,  4.6117e+15, -1.0000e-03,  1.3000e-02,\n",
              "          4.6117e+15, -1.7000e-02,  4.6117e+15, -1.0000e-03,  4.6117e+15,\n",
              "          1.3000e-02,  9.0000e-03, -1.3000e-02,  4.6117e+15, -1.2000e-02,\n",
              "          4.6117e+15,  4.6117e+15,  2.0000e-03, -3.0000e-03, -1.0000e-02,\n",
              "         -1.9000e-02, -4.6117e+15, -4.6117e+15,  1.0000e-03, -9.0000e-03,\n",
              "          0.0000e+00, -4.6117e+15,  4.6117e+15, -1.0000e-03,  4.6117e+15,\n",
              "         -4.6117e+15,  4.0000e-03, -1.3000e-02,  1.0000e-03,  4.6117e+15,\n",
              "         -4.6117e+15, -1.1000e-02,  2.1000e-02,  4.6117e+15,  0.0000e+00,\n",
              "         -1.2000e-02,  1.0000e-03,  2.2000e-02, -4.6117e+15,  2.0000e-02,\n",
              "          4.6117e+15, -4.6117e+15, -4.6117e+15,  4.0000e-03,  4.6117e+15,\n",
              "          4.0000e-03, -4.6117e+15, -1.8000e-02, -9.0000e-03, -2.3000e-02,\n",
              "          4.6117e+15,  4.6117e+15, -1.3000e-02,  4.6117e+15, -4.6117e+15,\n",
              "         -6.0000e-03, -1.0000e-02,  6.0000e-03, -2.1000e-02,  4.6117e+15,\n",
              "         -1.7000e-02, -1.2000e-02, -2.4000e-02, -4.6117e+15, -2.0000e-03,\n",
              "         -1.4000e-02,  1.7000e-02, -1.4000e-02,  4.0000e-03, -4.6117e+15,\n",
              "         -1.3000e-02,  3.0000e-03, -3.0000e-03, -6.0000e-03,  1.8000e-02,\n",
              "         -1.5000e-02, -1.0000e-03, -4.6117e+15, -8.0000e-03, -1.1000e-02,\n",
              "         -4.6117e+15, -4.6117e+15, -9.0000e-03,  9.0000e-03, -4.6117e+15,\n",
              "          4.6117e+15, -1.5000e-02, -4.6117e+15,  0.0000e+00, -8.0000e-03,\n",
              "          1.9000e-02,  4.6117e+15, -1.0000e-03, -4.6117e+15,  8.0000e-03,\n",
              "          1.0000e-03, -4.6117e+15,  4.6117e+15, -1.1000e-02, -4.6117e+15,\n",
              "          1.1000e-02,  4.0000e-03,  4.6117e+15, -8.0000e-03,  6.0000e-03,\n",
              "         -4.6117e+15,  4.6117e+15,  4.6117e+15,  4.6117e+15,  4.6117e+15,\n",
              "         -3.0000e-03,  4.6117e+15, -4.6117e+15,  8.0000e-03, -4.6117e+15,\n",
              "         -4.6117e+15,  4.6117e+15, -1.2000e-02, -2.1000e-02,  1.0000e-02,\n",
              "         -3.0000e-03,  4.6117e+15, -4.6117e+15, -1.0000e-02,  3.0000e-03,\n",
              "         -4.6117e+15,  1.3000e-02,  4.6117e+15,  1.0000e-03, -5.0000e-03,\n",
              "          0.0000e+00, -1.3000e-02, -1.1000e-02, -4.6117e+15, -1.8000e-02,\n",
              "          1.0000e-03,  4.6117e+15, -4.6117e+15,  2.0000e-03,  1.8000e-02,\n",
              "         -1.2000e-02, -4.0000e-03, -1.1000e-02, -1.3000e-02,  8.0000e-03,\n",
              "         -4.6117e+15, -9.0000e-03, -1.3000e-02,  4.6117e+15,  5.0000e-03,\n",
              "         -8.0000e-03, -7.0000e-03,  4.6117e+15,  4.6117e+15, -3.0000e-03,\n",
              "         -1.9000e-02,  6.0000e-03,  4.6117e+15,  4.6117e+15,  4.6117e+15,\n",
              "          1.6000e-02,  4.6117e+15, -7.0000e-03, -2.7000e-02,  1.2000e-02,\n",
              "          1.3000e-02,  8.0000e-03,  4.6117e+15, -1.2000e-02, -4.6117e+15,\n",
              "         -4.0000e-03]),\n",
              " 'fc1.weight': tensor([[ 4.6117e+15,  4.6117e+15,  1.1000e-02,  ..., -4.6117e+15,\n",
              "          -1.2000e-02, -2.0000e-03],\n",
              "         [ 4.6117e+15, -3.0000e-03,  4.6117e+15,  ..., -4.6117e+15,\n",
              "           4.6117e+15,  1.7000e-02],\n",
              "         [-4.6117e+15, -6.0000e-03, -1.7000e-02,  ...,  4.0000e-03,\n",
              "           8.0000e-03,  1.3000e-02],\n",
              "         ...,\n",
              "         [ 5.0000e-03, -4.6117e+15,  3.0000e-03,  ..., -4.6117e+15,\n",
              "          -3.0000e-03,  4.0000e-03],\n",
              "         [ 5.0000e-03,  0.0000e+00,  2.2000e-02,  ...,  4.6117e+15,\n",
              "          -4.6117e+15,  2.1000e-02],\n",
              "         [-1.4000e-02, -1.3000e-02, -4.6117e+15,  ..., -4.6117e+15,\n",
              "          -1.8000e-02, -4.6117e+15]]),\n",
              " 'fc2.bias': tensor([ 3.3000e-02, -5.0000e-02,  4.0000e-03, -4.6117e+15, -1.2000e-02,\n",
              "          4.6117e+15, -4.6117e+15,  2.5000e-02,  4.0000e-03, -9.0000e-03,\n",
              "         -1.9000e-02, -2.5000e-02,  2.7000e-02,  7.0000e-03,  1.2000e-02,\n",
              "         -8.0000e-03, -5.0000e-03, -4.0000e-03, -4.6117e+15, -1.0000e-02,\n",
              "          4.6117e+15, -4.6117e+15, -2.2000e-02,  4.6117e+15,  4.6117e+15,\n",
              "          4.6117e+15, -3.1000e-02,  1.2000e-02, -3.0000e-03, -4.6117e+15,\n",
              "          4.6117e+15,  2.6000e-02, -8.0000e-03,  3.1000e-02,  1.5000e-02,\n",
              "          4.6117e+15, -4.6117e+15,  3.0000e-03, -4.6117e+15,  8.0000e-03,\n",
              "         -4.6117e+15, -1.9000e-02, -2.2000e-02,  4.6117e+15, -1.4000e-02,\n",
              "          2.3000e-02, -2.6000e-02,  9.0000e-03, -4.6117e+15,  1.7000e-02,\n",
              "         -4.1000e-02,  4.6117e+15, -1.1000e-02,  1.0000e-03, -8.0000e-03,\n",
              "         -1.4000e-02,  4.6117e+15, -4.6000e-02, -4.6117e+15,  4.6117e+15,\n",
              "         -3.8000e-02, -1.6000e-02,  4.6117e+15, -4.0000e-03, -4.6117e+15,\n",
              "         -1.2000e-02,  3.4000e-02,  3.0000e-03,  9.0000e-03, -5.0000e-03,\n",
              "          1.9000e-02,  3.2000e-02,  2.5000e-02,  4.6117e+15,  4.6117e+15,\n",
              "          4.6117e+15,  7.0000e-03, -3.1000e-02, -2.0000e-02,  1.3000e-02,\n",
              "          4.6117e+15,  4.6117e+15,  3.2000e-02, -3.6000e-02, -1.2000e-02,\n",
              "          9.0000e-03, -8.0000e-03,  4.6117e+15, -4.6117e+15,  4.6117e+15,\n",
              "         -3.5000e-02, -2.5000e-02, -1.5000e-02, -1.1000e-02,  4.6117e+15,\n",
              "         -4.6117e+15,  5.0000e-03,  1.8000e-02, -4.6117e+15, -4.6117e+15,\n",
              "          2.6000e-02,  1.0000e-03, -4.6117e+15, -4.6117e+15,  2.2000e-02,\n",
              "         -3.0000e-03, -1.0000e-02, -4.6117e+15,  2.5000e-02, -1.0000e-03,\n",
              "          4.6117e+15, -5.2000e-02,  4.6117e+15, -5.0000e-03,  1.1000e-02,\n",
              "          4.6117e+15,  3.1000e-02,  1.0000e-02, -1.2000e-02,  4.6117e+15,\n",
              "          3.0000e-02, -4.6117e+15, -2.0000e-03, -1.0000e-03, -1.0000e-02,\n",
              "         -9.0000e-03, -1.5000e-02,  1.9000e-02]),\n",
              " 'fc2.weight': tensor([[ 1.5000e-02,  4.6117e+15,  1.2000e-02,  ..., -1.7000e-02,\n",
              "           4.6117e+15, -4.6117e+15],\n",
              "         [ 4.6117e+15,  1.1000e-02,  1.5000e-02,  ..., -4.6117e+15,\n",
              "           4.6117e+15,  2.0000e-02],\n",
              "         [-3.0000e-02,  9.0000e-03, -3.0000e-03,  ...,  4.6117e+15,\n",
              "          -9.0000e-03,  1.9000e-02],\n",
              "         ...,\n",
              "         [-2.1000e-02,  4.6117e+15, -3.7000e-02,  ..., -1.7000e-02,\n",
              "          -4.6117e+15, -2.0000e-02],\n",
              "         [-3.0000e-03, -5.0000e-03,  2.1000e-02,  ..., -1.4000e-02,\n",
              "          -6.0000e-03, -4.6117e+15],\n",
              "         [ 2.0000e-02,  4.6117e+15,  3.1000e-02,  ...,  4.6117e+15,\n",
              "          -8.0000e-03, -4.0000e-03]]),\n",
              " 'fc3.bias': tensor([-5.2000e-02,  8.5000e-02, -1.4000e-02,  1.5000e-02,  3.0000e-02,\n",
              "         -4.6117e+15,  4.6117e+15, -2.1000e-02,  6.6000e-02, -2.3000e-02,\n",
              "          1.9000e-02,  4.6117e+15,  0.0000e+00,  2.0000e-02, -1.7000e-02,\n",
              "          7.0000e-03,  2.7000e-02,  3.8000e-02,  1.9000e-02, -2.5000e-02,\n",
              "          5.1000e-02,  6.4000e-02, -4.6117e+15, -4.3000e-02,  3.5000e-02,\n",
              "          3.5000e-02, -1.8000e-02, -4.6117e+15, -4.3000e-02,  3.1000e-02,\n",
              "          4.3000e-02,  6.6000e-02,  9.3000e-02, -6.0000e-03,  4.6117e+15,\n",
              "          4.3000e-02,  4.6117e+15,  4.6117e+15,  4.7000e-02, -7.0000e-03,\n",
              "         -2.5000e-02,  5.5000e-02, -4.6117e+15, -2.7000e-02,  5.0000e-03,\n",
              "          5.2000e-02,  4.6117e+15,  2.3000e-02,  4.5000e-02, -4.6117e+15,\n",
              "          4.7000e-02, -2.9000e-02, -4.6117e+15, -8.0000e-03, -1.6000e-02,\n",
              "          5.0000e-03,  2.9000e-02,  4.6117e+15,  3.1000e-02,  2.4000e-02,\n",
              "         -2.0000e-02,  4.6117e+15, -2.3000e-02,  7.4000e-02]),\n",
              " 'fc3.weight': tensor([[-8.0000e-03,  2.0000e-02, -1.8000e-02,  ...,  1.0000e-02,\n",
              "          -4.6117e+15, -2.5000e-02],\n",
              "         [ 1.2000e-02, -1.7000e-02, -4.6117e+15,  ..., -1.1000e-02,\n",
              "           4.6117e+15, -3.6000e-02],\n",
              "         [-3.5000e-02, -8.0000e-03, -4.0000e-02,  ..., -4.6117e+15,\n",
              "           7.0000e-03,  9.0000e-03],\n",
              "         ...,\n",
              "         [ 4.6117e+15,  0.0000e+00,  8.8000e-02,  ..., -5.8000e-02,\n",
              "           1.5000e-02,  6.7000e-02],\n",
              "         [ 3.8000e-02, -3.5000e-02, -8.0000e-03,  ...,  4.8000e-02,\n",
              "           7.8000e-02,  4.7000e-02],\n",
              "         [ 5.6000e-02,  2.8000e-02,  4.6117e+15,  ...,  4.6117e+15,\n",
              "           4.6117e+15, -1.6000e-02]]),\n",
              " 'fc4.bias': tensor([ 4.6117e+15, -4.6117e+15, -1.1000e-02,  4.6117e+15, -5.7000e-02,\n",
              "          8.9000e-02,  9.6000e-02,  7.5000e-02, -2.2000e-02,  3.0000e-03,\n",
              "          4.6117e+15,  6.4000e-02,  9.6000e-02,  4.1000e-02,  4.6117e+15,\n",
              "         -4.6117e+15,  4.6117e+15,  2.5000e-02,  9.7000e-02, -4.6117e+15,\n",
              "         -4.6117e+15, -5.0000e-03, -4.6117e+15, -2.5000e-02,  4.6117e+15,\n",
              "          9.4000e-02, -1.4000e-02,  9.3000e-02,  4.6117e+15, -2.0000e-03,\n",
              "          4.6117e+15,  1.0000e-02]),\n",
              " 'fc4.weight': tensor([[ 2.3000e-02,  1.9000e-02, -4.6117e+15,  ...,  4.6117e+15,\n",
              "           2.7000e-02,  4.6117e+15],\n",
              "         [ 2.7000e-02, -4.6117e+15, -3.8000e-02,  ..., -4.6117e+15,\n",
              "          -6.0000e-02,  6.8000e-02],\n",
              "         [ 1.7000e-02,  5.9000e-02, -9.0000e-03,  ..., -4.6117e+15,\n",
              "          -3.0000e-03, -1.4000e-02],\n",
              "         ...,\n",
              "         [ 4.6117e+15, -1.7000e-02,  6.8000e-02,  ..., -4.6117e+15,\n",
              "           1.1800e-01,  6.1000e-02],\n",
              "         [-6.0000e-03, -3.2000e-02,  3.3000e-02,  ...,  4.6117e+15,\n",
              "          -4.6117e+15,  3.7000e-02],\n",
              "         [-5.7000e-02,  4.6117e+15, -4.6117e+15,  ..., -4.6117e+15,\n",
              "          -2.5000e-02,  4.6117e+15]]),\n",
              " 'fc5.bias': tensor([-4.6117e+15, -2.8600e-01,  2.1400e-01,  1.2700e-01, -4.6117e+15,\n",
              "         -4.6117e+15,  2.9800e-01, -3.9400e-01, -4.6117e+15, -2.7800e-01]),\n",
              " 'fc5.weight': tensor([[-4.6117e+15, -2.2800e-01,  9.0000e-03, -1.2000e-02, -3.0000e-03,\n",
              "           1.5000e-02,  1.6200e-01, -2.4000e-02, -4.6117e+15, -1.3600e-01,\n",
              "          -3.9000e-02, -4.6117e+15,  9.4000e-02,  4.6117e+15,  8.4000e-02,\n",
              "          -4.6117e+15, -6.4000e-02,  8.2000e-02,  2.6200e-01, -4.6117e+15,\n",
              "           4.6117e+15,  4.7000e-02, -4.7000e-02, -5.8000e-02, -4.6117e+15,\n",
              "           2.2000e-02, -3.6000e-02, -9.2000e-02,  9.9000e-02,  6.5000e-02,\n",
              "           4.6117e+15, -4.6117e+15],\n",
              "         [-4.6117e+15, -1.5800e-01, -7.5000e-02,  4.6117e+15, -6.0000e-03,\n",
              "           1.2000e-02,  7.5000e-02, -2.8100e-01, -4.6117e+15,  6.0000e-03,\n",
              "          -4.6117e+15, -4.6117e+15,  4.6117e+15,  4.6117e+15, -1.5200e-01,\n",
              "           4.6117e+15,  1.8400e-01,  0.0000e+00,  2.3000e-02, -4.6117e+15,\n",
              "           4.6117e+15,  2.2200e-01,  1.7100e-01, -4.6117e+15, -1.8300e-01,\n",
              "           4.6117e+15, -4.9000e-02, -4.8000e-02, -4.6117e+15, -1.6000e-01,\n",
              "          -6.4000e-02, -4.6117e+15],\n",
              "         [ 4.6117e+15,  4.6117e+15,  1.0600e-01,  2.0000e-03, -8.0000e-03,\n",
              "           8.3000e-02,  2.1100e-01, -4.6117e+15,  4.6117e+15, -4.6117e+15,\n",
              "           4.6117e+15,  2.1000e-02,  1.5200e-01, -9.0000e-02, -4.6117e+15,\n",
              "          -4.6117e+15, -4.6117e+15,  8.6000e-02, -1.6800e-01,  3.5000e-02,\n",
              "           4.6117e+15,  4.6117e+15, -1.3800e-01,  4.6117e+15,  1.4700e-01,\n",
              "          -2.3000e-02,  4.6117e+15, -4.6117e+15, -2.2200e-01,  4.6117e+15,\n",
              "           2.6000e-01, -4.6117e+15],\n",
              "         [-4.6117e+15, -1.1600e-01,  4.6117e+15, -2.2900e-01, -4.6117e+15,\n",
              "           4.6117e+15,  1.6800e-01, -4.6117e+15, -3.5000e-02,  4.6117e+15,\n",
              "          -1.4200e-01,  1.6900e-01, -4.6117e+15,  4.6117e+15,  9.9000e-02,\n",
              "           1.8600e-01, -1.3400e-01, -1.8400e-01,  4.6117e+15,  2.6100e-01,\n",
              "           4.4000e-02,  3.2000e-02,  6.2000e-02, -4.6117e+15, -4.6117e+15,\n",
              "          -1.1700e-01, -6.6000e-02, -1.4800e-01,  4.7000e-02,  4.6117e+15,\n",
              "          -4.6117e+15,  1.5400e-01],\n",
              "         [-4.6117e+15,  1.9100e-01,  9.0000e-02, -1.4400e-01,  4.6117e+15,\n",
              "           4.6117e+15,  2.2800e-01, -2.0900e-01, -4.6117e+15,  5.2000e-02,\n",
              "          -1.0000e-01,  4.6117e+15,  4.6117e+15, -4.6117e+15,  4.6117e+15,\n",
              "          -4.6117e+15, -4.6117e+15,  4.6117e+15,  4.6117e+15, -8.5000e-02,\n",
              "          -1.0600e-01, -4.6117e+15, -4.6117e+15,  1.2000e-01,  4.6117e+15,\n",
              "          -2.6200e-01, -9.0000e-03, -1.9900e-01,  3.0000e-02, -4.6117e+15,\n",
              "           2.0200e-01, -7.3000e-02],\n",
              "         [-2.3000e-02, -4.6117e+15,  4.6117e+15,  4.6117e+15,  2.0000e-03,\n",
              "          -4.6117e+15, -2.5900e-01,  3.1200e-01,  4.3000e-02,  4.6117e+15,\n",
              "          -4.6117e+15, -4.6117e+15, -1.5400e-01,  1.5100e-01, -1.7700e-01,\n",
              "          -1.5700e-01,  3.0400e-01,  3.4000e-02,  4.6117e+15, -8.2000e-02,\n",
              "           2.6200e-01, -1.1200e-01, -7.4000e-02, -7.6000e-02,  2.2700e-01,\n",
              "           4.6117e+15,  2.8000e-02, -4.6117e+15, -4.6117e+15, -4.6117e+15,\n",
              "          -1.3400e-01, -7.3000e-02],\n",
              "         [ 1.2000e-01,  6.8000e-02,  4.8000e-02,  4.6117e+15, -5.7000e-02,\n",
              "          -1.1000e-02,  1.4000e-01, -3.0100e-01, -4.6117e+15, -2.1000e-02,\n",
              "          -4.6117e+15, -5.6000e-02, -2.1000e-02, -1.8800e-01,  3.3400e-01,\n",
              "           2.0500e-01, -1.9000e-02,  1.2900e-01, -4.6117e+15, -4.6117e+15,\n",
              "          -6.4000e-02,  4.6117e+15, -8.4000e-02,  1.0700e-01,  1.3000e-02,\n",
              "          -2.1700e-01, -4.6117e+15, -1.0300e-01, -4.6117e+15,  1.4000e-02,\n",
              "           1.8500e-01,  8.2000e-02],\n",
              "         [-4.6117e+15,  4.6117e+15, -1.1300e-01,  3.6000e-02,  8.4000e-02,\n",
              "          -7.4000e-02, -1.2900e-01,  2.5300e-01,  2.3000e-02, -1.3000e-02,\n",
              "           4.6117e+15,  4.6117e+15, -4.6117e+15, -4.6117e+15, -3.2800e-01,\n",
              "          -3.4700e-01,  4.6117e+15,  3.5000e-02, -4.6117e+15, -1.4900e-01,\n",
              "           2.2100e-01,  4.6117e+15,  5.4000e-02, -1.1900e-01,  1.2000e-02,\n",
              "           1.1100e-01,  4.6117e+15,  4.6117e+15, -4.6117e+15,  9.3000e-02,\n",
              "           4.6117e+15, -4.6117e+15],\n",
              "         [ 1.9800e-01, -9.1000e-02, -4.6117e+15,  7.2000e-02,  4.6117e+15,\n",
              "           7.3000e-02, -3.2100e-01,  2.8600e-01,  3.6000e-02, -4.6117e+15,\n",
              "          -3.3000e-02, -2.2000e-02, -6.3000e-02, -6.4000e-02, -4.6117e+15,\n",
              "          -4.6117e+15, -4.6117e+15, -1.2100e-01,  1.6200e-01, -9.3000e-02,\n",
              "          -1.0800e-01,  4.6117e+15,  1.1300e-01, -4.6117e+15, -4.6117e+15,\n",
              "           3.1200e-01, -2.8000e-02,  4.6117e+15, -5.3000e-02, -4.6117e+15,\n",
              "          -2.9000e-02, -4.7000e-02],\n",
              "         [-7.3000e-02,  4.6117e+15,  1.6000e-02,  6.4000e-02,  3.6000e-02,\n",
              "           4.6117e+15, -4.0000e-02,  1.5300e-01, -9.3000e-02, -6.0000e-03,\n",
              "           1.1000e-02, -1.9300e-01, -4.6117e+15, -1.1800e-01, -1.6800e-01,\n",
              "           4.6117e+15, -2.6000e-02,  2.0000e-03, -2.4700e-01,  4.6117e+15,\n",
              "           2.0000e-01, -4.6117e+15, -2.8000e-02, -5.0000e-03,  4.6117e+15,\n",
              "          -4.6117e+15,  4.6117e+15,  8.8000e-02, -4.6117e+15,  4.6117e+15,\n",
              "           4.6117e+15,  4.6117e+15]])}"
            ]
          },
          "metadata": {},
          "execution_count": 27
        }
      ]
    },
    {
      "cell_type": "code",
      "metadata": {
        "id": "LEsprFP2qoln"
      },
      "source": [
        ""
      ],
      "execution_count": null,
      "outputs": []
    },
    {
      "cell_type": "code",
      "metadata": {
        "id": "sQisVUynmBTX"
      },
      "source": [
        ""
      ],
      "execution_count": null,
      "outputs": []
    },
    {
      "cell_type": "markdown",
      "metadata": {
        "id": "TpYbHIdkl_bA"
      },
      "source": [
        "**ACCURACY MEASURES**"
      ]
    },
    {
      "cell_type": "code",
      "metadata": {
        "id": "h9rZi72-mRHL",
        "colab": {
          "base_uri": "https://localhost:8080/"
        },
        "outputId": "207a430e-8694-4fca-acf5-d0fa5e8450e3"
      },
      "source": [
        "model_0"
      ],
      "execution_count": null,
      "outputs": [
        {
          "output_type": "execute_result",
          "data": {
            "text/plain": [
              "{'bias': -0.0022203628946107093,\n",
              " 'confusion_matrix': array([[0.91666667, 0.08333333],\n",
              "        [0.5       , 0.5       ]]),\n",
              " 'cost_history': [array([[111.59669607]]),\n",
              "  array([[nan]]),\n",
              "  array([[nan]]),\n",
              "  array([[nan]]),\n",
              "  array([[nan]]),\n",
              "  array([[nan]]),\n",
              "  array([[nan]]),\n",
              "  array([[nan]]),\n",
              "  array([[nan]]),\n",
              "  array([[nan]]),\n",
              "  array([[nan]]),\n",
              "  array([[nan]]),\n",
              "  array([[nan]]),\n",
              "  array([[nan]])],\n",
              " 'test_accuracy': 0.875,\n",
              " 'train_accuracy': 0.95,\n",
              " 'weights': array([[ 0.00000000e+00],\n",
              "        [ 4.68750000e-04],\n",
              "        [ 9.06250000e-04],\n",
              "        [-2.81250000e-04],\n",
              "        [-2.15625000e-03],\n",
              "        [-4.03125000e-03],\n",
              "        [-6.09375000e-03],\n",
              "        [ 9.12500000e-02],\n",
              "        [ 2.48906250e-01],\n",
              "        [ 2.15694764e-01],\n",
              "        [ 1.70021778e-01],\n",
              "        [ 3.59374040e-03],\n",
              "        [-2.40125008e-01],\n",
              "        [-3.79937506e-01],\n",
              "        [-3.60875005e-01],\n",
              "        [-3.90437508e-01],\n",
              "        [-7.10625060e-02],\n",
              "        [ 5.30203660e-02],\n",
              "        [-5.80563631e-03],\n",
              "        [ 1.67000000e-01],\n",
              "        [ 9.81250000e-02],\n",
              "        [-4.19375000e-02],\n",
              "        [-4.96562500e-02],\n",
              "        [-4.69062500e-02],\n",
              "        [-1.28437500e-02],\n",
              "        [-2.81250000e-03],\n",
              "        [-2.18750000e-04],\n",
              "        [ 0.00000000e+00],\n",
              "        [ 0.00000000e+00],\n",
              "        [ 0.00000000e+00],\n",
              "        [ 0.00000000e+00],\n",
              "        [ 1.21875000e-03],\n",
              "        [-8.06250000e-03],\n",
              "        [ 7.59375000e-02],\n",
              "        [ 3.10656250e-01],\n",
              "        [ 4.82520166e-01],\n",
              "        [ 6.48597194e-01],\n",
              "        [ 3.94081066e-01],\n",
              "        [ 2.51479242e-01],\n",
              "        [ 1.04570765e-01],\n",
              "        [-1.99745982e-02],\n",
              "        [-1.23875211e-01],\n",
              "        [-2.77660691e-01],\n",
              "        [-1.50881854e-01],\n",
              "        [ 1.78447383e-01],\n",
              "        [ 7.29873041e-02],\n",
              "        [ 3.90498123e-02],\n",
              "        [ 5.00117154e-01],\n",
              "        [ 5.61503432e-01],\n",
              "        [ 2.99843750e-01],\n",
              "        [ 1.87812500e-02],\n",
              "        [-7.89687500e-02],\n",
              "        [-8.72812500e-02],\n",
              "        [-2.46562500e-02],\n",
              "        [-1.21875000e-03],\n",
              "        [ 0.00000000e+00],\n",
              "        [ 0.00000000e+00],\n",
              "        [ 4.68750000e-04],\n",
              "        [-4.37500000e-03],\n",
              "        [-3.81250000e-03],\n",
              "        [ 1.35437500e-01],\n",
              "        [ 5.15968750e-01],\n",
              "        [ 6.06250000e-01],\n",
              "        [ 6.79149811e-01],\n",
              "        [ 8.61286913e-01],\n",
              "        [ 5.62675822e-01],\n",
              "        [-6.27778182e-02],\n",
              "        [-1.11463102e-01],\n",
              "        [ 1.05504088e-02],\n",
              "        [ 3.54943613e-02],\n",
              "        [ 7.55977840e-02],\n",
              "        [ 8.02621039e-02],\n",
              "        [-7.78715664e-02],\n",
              "        [-1.31024590e-01],\n",
              "        [ 6.28256160e-02],\n",
              "        [ 4.99161913e-01],\n",
              "        [ 6.32047391e-01],\n",
              "        [ 5.53937500e-01],\n",
              "        [ 5.53187500e-01],\n",
              "        [ 1.07312500e-01],\n",
              "        [-8.20937500e-02],\n",
              "        [-4.08125000e-02],\n",
              "        [-5.87500000e-03],\n",
              "        [-8.75000000e-04],\n",
              "        [-9.37500000e-05],\n",
              "        [-2.71875000e-03],\n",
              "        [-1.96562500e-02],\n",
              "        [ 2.65625000e-02],\n",
              "        [ 4.14906250e-01],\n",
              "        [ 5.16031250e-01],\n",
              "        [ 7.51437500e-01],\n",
              "        [ 6.24720982e-01],\n",
              "        [ 5.28995380e-01],\n",
              "        [ 3.32983484e-01],\n",
              "        [-2.09590320e-01],\n",
              "        [-1.20494955e-01],\n",
              "        [-1.55131245e-01],\n",
              "        [-3.35851605e-01],\n",
              "        [-2.42471774e-01],\n",
              "        [-2.27373180e-01],\n",
              "        [-2.07091929e-01],\n",
              "        [-2.17526201e-01],\n",
              "        [-1.36271359e-01],\n",
              "        [ 1.34706066e-01],\n",
              "        [ 4.50315338e-01],\n",
              "        [ 3.99312500e-01],\n",
              "        [ 6.14812500e-01],\n",
              "        [ 4.21062500e-01],\n",
              "        [-5.35312500e-02],\n",
              "        [-8.99062500e-02],\n",
              "        [-8.65625000e-03],\n",
              "        [-6.25000000e-05],\n",
              "        [-4.37500000e-04],\n",
              "        [-1.48125000e-02],\n",
              "        [-2.33125000e-02],\n",
              "        [ 2.12062500e-01],\n",
              "        [ 5.56218750e-01],\n",
              "        [ 7.26593750e-01],\n",
              "        [ 6.63031250e-01],\n",
              "        [ 5.48313725e-01],\n",
              "        [ 5.04391953e-01],\n",
              "        [ 4.68058884e-01],\n",
              "        [-2.75342730e-02],\n",
              "        [-1.07463704e-01],\n",
              "        [-1.26705642e-01],\n",
              "        [-2.99429228e-01],\n",
              "        [-2.31927622e-01],\n",
              "        [-7.77762046e-02],\n",
              "        [-1.66498178e-01],\n",
              "        [-7.49372922e-02],\n",
              "        [-3.03618853e-02],\n",
              "        [ 2.76984090e-01],\n",
              "        [ 4.08730865e-01],\n",
              "        [ 3.34187500e-01],\n",
              "        [ 4.91593750e-01],\n",
              "        [ 6.01281250e-01],\n",
              "        [ 8.41562500e-02],\n",
              "        [-8.06875000e-02],\n",
              "        [-1.20625000e-02],\n",
              "        [-2.50000000e-04],\n",
              "        [-2.50000000e-03],\n",
              "        [-2.75000000e-02],\n",
              "        [-2.25625000e-02],\n",
              "        [ 2.65406250e-01],\n",
              "        [ 5.76156250e-01],\n",
              "        [ 8.30125000e-01],\n",
              "        [ 5.67875000e-01],\n",
              "        [ 5.18210298e-01],\n",
              "        [ 3.82535301e-01],\n",
              "        [ 2.50711907e-01],\n",
              "        [-1.20877016e-01],\n",
              "        [-1.72471770e-01],\n",
              "        [-3.86965316e-01],\n",
              "        [-6.05527817e-01],\n",
              "        [-5.19151210e-01],\n",
              "        [-3.92621567e-01],\n",
              "        [-5.11781043e-01],\n",
              "        [-2.29667937e-01],\n",
              "        [-1.58920556e-01],\n",
              "        [ 8.33262275e-02],\n",
              "        [ 3.31483484e-01],\n",
              "        [ 4.32500000e-01],\n",
              "        [ 4.60437500e-01],\n",
              "        [ 6.31625000e-01],\n",
              "        [ 2.43843750e-01],\n",
              "        [-1.03500000e-01],\n",
              "        [-5.52812500e-02],\n",
              "        [-3.34375000e-03],\n",
              "        [-1.16562500e-02],\n",
              "        [-4.31562500e-02],\n",
              "        [-2.03125000e-03],\n",
              "        [ 3.48375000e-01],\n",
              "        [ 5.08812500e-01],\n",
              "        [ 7.57781250e-01],\n",
              "        [ 5.59733872e-01],\n",
              "        [ 4.15312719e-01],\n",
              "        [ 4.77814938e-01],\n",
              "        [ 3.61506664e-01],\n",
              "        [-5.57256026e-02],\n",
              "        [ 8.77500521e-03],\n",
              "        [-4.54044309e-02],\n",
              "        [-1.51216928e-01],\n",
              "        [-1.33937299e-01],\n",
              "        [-1.82501405e-01],\n",
              "        [-2.79443744e-01],\n",
              "        [-1.49822575e-01],\n",
              "        [-8.58268051e-02],\n",
              "        [ 3.43558643e-02],\n",
              "        [ 3.17000219e-01],\n",
              "        [ 3.38491936e-01],\n",
              "        [ 3.45312500e-01],\n",
              "        [ 6.27000000e-01],\n",
              "        [ 2.87281250e-01],\n",
              "        [-1.02375000e-01],\n",
              "        [-8.62187500e-02],\n",
              "        [-1.67187500e-02],\n",
              "        [-1.75937500e-02],\n",
              "        [-5.74687500e-02],\n",
              "        [ 3.59375000e-02],\n",
              "        [ 3.35218750e-01],\n",
              "        [ 6.63406250e-01],\n",
              "        [ 7.64125000e-01],\n",
              "        [ 6.85696777e-01],\n",
              "        [ 5.63831066e-01],\n",
              "        [ 4.93331066e-01],\n",
              "        [ 3.65643352e-01],\n",
              "        [-6.55703598e-02],\n",
              "        [ 3.04048462e-02],\n",
              "        [-1.31856802e-02],\n",
              "        [-2.44001405e-01],\n",
              "        [-5.46560487e-02],\n",
              "        [-2.00598381e-01],\n",
              "        [-1.93251406e-01],\n",
              "        [-1.90251405e-01],\n",
              "        [-9.63328561e-02],\n",
              "        [ 3.75137251e-02],\n",
              "        [ 3.22021792e-01],\n",
              "        [ 4.31417140e-01],\n",
              "        [ 4.84218750e-01],\n",
              "        [ 5.14750000e-01],\n",
              "        [ 3.97656250e-01],\n",
              "        [-4.04062500e-02],\n",
              "        [-1.30156250e-01],\n",
              "        [-3.29062500e-02],\n",
              "        [-1.80625000e-02],\n",
              "        [-3.25000000e-02],\n",
              "        [ 1.11687500e-01],\n",
              "        [ 3.24531250e-01],\n",
              "        [ 5.70500000e-01],\n",
              "        [ 6.58312500e-01],\n",
              "        [ 7.09799197e-01],\n",
              "        [ 5.55388728e-01],\n",
              "        [ 5.25896792e-01],\n",
              "        [ 4.24675608e-01],\n",
              "        [-5.76112863e-02],\n",
              "        [-1.30807454e-01],\n",
              "        [-1.37407654e-01],\n",
              "        [-3.13157659e-01],\n",
              "        [-1.24873187e-01],\n",
              "        [-3.44443745e-01],\n",
              "        [-3.58779433e-01],\n",
              "        [-3.61320354e-01],\n",
              "        [-1.87469351e-01],\n",
              "        [ 1.07324611e-01],\n",
              "        [ 2.65859090e-01],\n",
              "        [ 6.02777624e-01],\n",
              "        [ 5.43093750e-01],\n",
              "        [ 3.87843750e-01],\n",
              "        [ 4.28093750e-01],\n",
              "        [-7.28125000e-03],\n",
              "        [-1.55468750e-01],\n",
              "        [-3.56562500e-02],\n",
              "        [-9.59375000e-03],\n",
              "        [ 1.80625000e-02],\n",
              "        [ 1.09750000e-01],\n",
              "        [ 3.37375000e-01],\n",
              "        [ 5.38437500e-01],\n",
              "        [ 4.42281250e-01],\n",
              "        [ 7.43510490e-01],\n",
              "        [ 6.29165139e-01],\n",
              "        [ 4.47090743e-01],\n",
              "        [ 4.29711696e-01],\n",
              "        [-7.37804398e-02],\n",
              "        [-2.58929228e-01],\n",
              "        [-3.45004628e-01],\n",
              "        [-4.22440522e-01],\n",
              "        [-2.32218544e-01],\n",
              "        [-3.89978220e-01],\n",
              "        [-3.96563912e-01],\n",
              "        [-3.40670557e-01],\n",
              "        [-1.29634672e-01],\n",
              "        [ 2.32887110e-01],\n",
              "        [ 1.90226026e-01],\n",
              "        [ 5.39880651e-01],\n",
              "        [ 3.05250000e-01],\n",
              "        [ 1.82625000e-01],\n",
              "        [ 2.39718750e-01],\n",
              "        [ 1.36250000e-02],\n",
              "        [-1.46343750e-01],\n",
              "        [-5.39375000e-02],\n",
              "        [-1.70937500e-02],\n",
              "        [-7.00312500e-02],\n",
              "        [ 1.21250000e-02],\n",
              "        [ 2.91718750e-01],\n",
              "        [ 3.81875000e-01],\n",
              "        [ 3.28593750e-01],\n",
              "        [ 3.80232671e-01],\n",
              "        [ 2.76341349e-01],\n",
              "        [ 3.76625219e-01],\n",
              "        [ 4.98953632e-01],\n",
              "        [ 7.74647219e-02],\n",
              "        [-1.51182454e-01],\n",
              "        [-3.13812289e-01],\n",
              "        [-2.83738507e-01],\n",
              "        [-1.30962093e-01],\n",
              "        [-3.48257857e-01],\n",
              "        [-4.24088709e-01],\n",
              "        [-4.52125799e-01],\n",
              "        [-1.13322172e-01],\n",
              "        [ 3.15551425e-01],\n",
              "        [-1.73301998e-01],\n",
              "        [ 2.48963718e-01],\n",
              "        [ 1.88968750e-01],\n",
              "        [ 2.27500000e-02],\n",
              "        [ 7.76250000e-02],\n",
              "        [-1.44406250e-01],\n",
              "        [-2.60437500e-01],\n",
              "        [-6.99375000e-02],\n",
              "        [-1.37500000e-02],\n",
              "        [-1.17906250e-01],\n",
              "        [-1.28312500e-01],\n",
              "        [ 3.45000000e-02],\n",
              "        [ 1.39562500e-01],\n",
              "        [ 4.40312500e-02],\n",
              "        [-1.09177811e-01],\n",
              "        [ 5.05159467e-02],\n",
              "        [ 4.11258889e-01],\n",
              "        [ 5.56061293e-01],\n",
              "        [-1.77464108e-01],\n",
              "        [-2.69971768e-01],\n",
              "        [-2.88918942e-01],\n",
              "        [-2.39453424e-01],\n",
              "        [-1.51695352e-01],\n",
              "        [-4.68050398e-01],\n",
              "        [-4.96170563e-01],\n",
              "        [-4.84060075e-01],\n",
              "        [-3.15628428e-01],\n",
              "        [ 3.94386106e-01],\n",
              "        [-1.26709255e-01],\n",
              "        [-2.93075997e-01],\n",
              "        [-3.23406250e-01],\n",
              "        [-4.47125000e-01],\n",
              "        [-2.60906250e-01],\n",
              "        [-3.97343750e-01],\n",
              "        [-3.20625000e-01],\n",
              "        [-8.06250000e-02],\n",
              "        [-3.01562500e-02],\n",
              "        [-1.12875000e-01],\n",
              "        [-8.15625000e-02],\n",
              "        [-5.33437500e-02],\n",
              "        [-1.02281250e-01],\n",
              "        [-2.83156250e-01],\n",
              "        [-2.29728427e-01],\n",
              "        [-2.96270129e-02],\n",
              "        [ 3.72376213e-01],\n",
              "        [ 3.39408464e-01],\n",
              "        [-2.70462495e-01],\n",
              "        [-3.76251405e-01],\n",
              "        [-4.17688297e-01],\n",
              "        [-2.52196365e-01],\n",
              "        [-1.09939905e-01],\n",
              "        [-4.48469552e-01],\n",
              "        [-4.12507860e-01],\n",
              "        [-4.68833262e-01],\n",
              "        [-3.08787104e-01],\n",
              "        [ 2.53365526e-01],\n",
              "        [-2.49749951e-02],\n",
              "        [-4.63079635e-01],\n",
              "        [-6.25375000e-01],\n",
              "        [-6.89187500e-01],\n",
              "        [-4.36656250e-01],\n",
              "        [-4.53437500e-01],\n",
              "        [-3.68218750e-01],\n",
              "        [-7.96250000e-02],\n",
              "        [-5.76875000e-02],\n",
              "        [-1.24562500e-01],\n",
              "        [-1.00750000e-01],\n",
              "        [-1.59031250e-01],\n",
              "        [-2.11718750e-01],\n",
              "        [-4.52000000e-01],\n",
              "        [-5.17625000e-01],\n",
              "        [-3.31781250e-01],\n",
              "        [ 4.22218750e-01],\n",
              "        [ 2.81058069e-01],\n",
              "        [-2.03765925e-01],\n",
              "        [-1.32647978e-01],\n",
              "        [-3.32091928e-01],\n",
              "        [-1.60257857e-01],\n",
              "        [ 3.57108980e-02],\n",
              "        [-2.81756249e-01],\n",
              "        [-3.43807456e-01],\n",
              "        [-4.22317535e-01],\n",
              "        [-3.09834275e-01],\n",
              "        [ 2.14562496e-01],\n",
              "        [-1.15156250e-01],\n",
              "        [-8.02500000e-01],\n",
              "        [-8.02968750e-01],\n",
              "        [-8.20000000e-01],\n",
              "        [-4.98531250e-01],\n",
              "        [-4.51781250e-01],\n",
              "        [-3.85562500e-01],\n",
              "        [-1.05875000e-01],\n",
              "        [-3.79687500e-02],\n",
              "        [-1.27187500e-01],\n",
              "        [-9.16250000e-02],\n",
              "        [-2.04281250e-01],\n",
              "        [-2.34343750e-01],\n",
              "        [-5.04593750e-01],\n",
              "        [-6.08096976e-01],\n",
              "        [-4.78189113e-01],\n",
              "        [ 3.44906250e-01],\n",
              "        [ 1.05023799e-01],\n",
              "        [-2.42729836e-01],\n",
              "        [-2.98716929e-01],\n",
              "        [-3.76373179e-01],\n",
              "        [-2.37109671e-01],\n",
              "        [-4.14550260e-02],\n",
              "        [-2.79527823e-01],\n",
              "        [-3.89274593e-01],\n",
              "        [-4.31015920e-01],\n",
              "        [-3.20103424e-01],\n",
              "        [ 3.41874962e-02],\n",
              "        [-1.66471976e-01],\n",
              "        [-8.03720363e-01],\n",
              "        [-8.72625000e-01],\n",
              "        [-8.17062500e-01],\n",
              "        [-5.42250000e-01],\n",
              "        [-4.49125000e-01],\n",
              "        [-4.22156250e-01],\n",
              "        [-9.92500000e-02],\n",
              "        [-5.03125000e-02],\n",
              "        [-1.46062500e-01],\n",
              "        [-1.01156250e-01],\n",
              "        [-2.36281250e-01],\n",
              "        [-2.75187500e-01],\n",
              "        [-5.60531250e-01],\n",
              "        [-5.96437500e-01],\n",
              "        [-5.06812500e-01],\n",
              "        [ 4.38000000e-01],\n",
              "        [ 8.35798512e-02],\n",
              "        [-3.16820360e-01],\n",
              "        [-3.90902816e-01],\n",
              "        [-2.84027816e-01],\n",
              "        [-1.68297171e-01],\n",
              "        [ 5.44638906e-03],\n",
              "        [-4.14527816e-01],\n",
              "        [-3.67713709e-01],\n",
              "        [-4.28984668e-01],\n",
              "        [-2.17428221e-01],\n",
              "        [-4.07812534e-02],\n",
              "        [-1.69500000e-01],\n",
              "        [-8.18218750e-01],\n",
              "        [-8.28468750e-01],\n",
              "        [-7.76875000e-01],\n",
              "        [-5.08625000e-01],\n",
              "        [-3.45875000e-01],\n",
              "        [-3.88343750e-01],\n",
              "        [-8.90000000e-02],\n",
              "        [-6.90625000e-02],\n",
              "        [-1.84312500e-01],\n",
              "        [-2.14593750e-01],\n",
              "        [-3.28218750e-01],\n",
              "        [-4.43125000e-01],\n",
              "        [-7.45343750e-01],\n",
              "        [-6.40439113e-01],\n",
              "        [-5.32062500e-01],\n",
              "        [ 4.45875000e-01],\n",
              "        [ 7.11768289e-02],\n",
              "        [-2.48468546e-01],\n",
              "        [-2.76407655e-01],\n",
              "        [-2.32685680e-01],\n",
              "        [-1.04878043e-03],\n",
              "        [ 1.30508889e-01],\n",
              "        [-3.34621565e-01],\n",
              "        [-3.24466936e-01],\n",
              "        [-3.81009466e-01],\n",
              "        [-1.85337697e-01],\n",
              "        [-5.43750377e-03],\n",
              "        [-7.32187500e-02],\n",
              "        [-7.51690726e-01],\n",
              "        [-8.56031250e-01],\n",
              "        [-7.84593750e-01],\n",
              "        [-5.40437500e-01],\n",
              "        [-4.25625000e-01],\n",
              "        [-3.57437500e-01],\n",
              "        [-8.03125000e-02],\n",
              "        [-7.31875000e-02],\n",
              "        [-2.12093750e-01],\n",
              "        [-2.43687500e-01],\n",
              "        [-3.64937500e-01],\n",
              "        [-4.91218750e-01],\n",
              "        [-7.15250000e-01],\n",
              "        [-6.69471976e-01],\n",
              "        [-5.00375000e-01],\n",
              "        [ 4.46653024e-01],\n",
              "        [-1.10829016e-01],\n",
              "        [-3.71871570e-01],\n",
              "        [-4.11846768e-01],\n",
              "        [-3.83146365e-01],\n",
              "        [-1.35830032e-01],\n",
              "        [-1.69086474e-01],\n",
              "        [-4.95404427e-01],\n",
              "        [-4.07124796e-01],\n",
              "        [-4.09187289e-01],\n",
              "        [-3.34843542e-01],\n",
              "        [ 8.56977788e-02],\n",
              "        [ 3.06250000e-02],\n",
              "        [-7.21320564e-01],\n",
              "        [-8.55312500e-01],\n",
              "        [-8.12656250e-01],\n",
              "        [-6.12093750e-01],\n",
              "        [-4.23843750e-01],\n",
              "        [-3.09718750e-01],\n",
              "        [-6.70312500e-02],\n",
              "        [-5.84062500e-02],\n",
              "        [-1.90187500e-01],\n",
              "        [-2.59281250e-01],\n",
              "        [-3.93312500e-01],\n",
              "        [-4.99968750e-01],\n",
              "        [-6.75656250e-01],\n",
              "        [-6.58790927e-01],\n",
              "        [-3.90781250e-01],\n",
              "        [ 5.68046978e-01],\n",
              "        [ 4.10002186e-02],\n",
              "        [-2.76369956e-01],\n",
              "        [-3.92292332e-01],\n",
              "        [-2.85552615e-01],\n",
              "        [-3.38941438e-02],\n",
              "        [-4.83647377e-03],\n",
              "        [-2.88996564e-01],\n",
              "        [-4.21659272e-01],\n",
              "        [-3.90404428e-01],\n",
              "        [-2.76731444e-01],\n",
              "        [ 2.76332662e-01],\n",
              "        [ 2.05906250e-01],\n",
              "        [-6.16378226e-01],\n",
              "        [-8.27031250e-01],\n",
              "        [-7.70781250e-01],\n",
              "        [-5.96343750e-01],\n",
              "        [-3.96593750e-01],\n",
              "        [-2.77500000e-01],\n",
              "        [-5.30000000e-02],\n",
              "        [-5.14062500e-02],\n",
              "        [-1.28937500e-01],\n",
              "        [-1.89875000e-01],\n",
              "        [-3.36218750e-01],\n",
              "        [-5.16281250e-01],\n",
              "        [-6.80250000e-01],\n",
              "        [-6.59947177e-01],\n",
              "        [-2.77593750e-01],\n",
              "        [ 4.93823996e-01],\n",
              "        [-1.13780071e-02],\n",
              "        [-3.29119956e-01],\n",
              "        [-4.17950195e-01],\n",
              "        [-3.36494955e-01],\n",
              "        [-7.62018047e-02],\n",
              "        [-8.68019981e-02],\n",
              "        [-3.36593537e-01],\n",
              "        [-4.76881247e-01],\n",
              "        [-3.33559065e-01],\n",
              "        [-2.56672170e-01],\n",
              "        [ 3.10191136e-01],\n",
              "        [ 3.61500000e-01],\n",
              "        [-4.98439113e-01],\n",
              "        [-8.24656250e-01],\n",
              "        [-7.20218750e-01],\n",
              "        [-5.83593750e-01],\n",
              "        [-3.64750000e-01],\n",
              "        [-2.44625000e-01],\n",
              "        [-5.12812500e-02],\n",
              "        [-3.52812500e-02],\n",
              "        [-9.29687500e-02],\n",
              "        [-1.36812500e-01],\n",
              "        [-2.83843750e-01],\n",
              "        [-4.37406250e-01],\n",
              "        [-5.94531250e-01],\n",
              "        [-5.59939113e-01],\n",
              "        [-7.16875000e-02],\n",
              "        [ 4.62347788e-01],\n",
              "        [-9.62961988e-03],\n",
              "        [-2.28246569e-01],\n",
              "        [-3.65106445e-01],\n",
              "        [-2.97840317e-01],\n",
              "        [-4.97378935e-02],\n",
              "        [ 1.09663493e-02],\n",
              "        [-2.79253012e-01],\n",
              "        [-4.33126407e-01],\n",
              "        [-2.31374792e-01],\n",
              "        [-1.85451807e-01],\n",
              "        [ 4.20572189e-01],\n",
              "        [ 5.50156250e-01],\n",
              "        [-3.48843750e-01],\n",
              "        [-7.12187500e-01],\n",
              "        [-6.45718750e-01],\n",
              "        [-5.21875000e-01],\n",
              "        [-2.99906250e-01],\n",
              "        [-1.83468750e-01],\n",
              "        [-4.06562500e-02],\n",
              "        [-3.56562500e-02],\n",
              "        [-7.63750000e-02],\n",
              "        [-1.21562500e-01],\n",
              "        [-1.45187500e-01],\n",
              "        [-4.59125000e-01],\n",
              "        [-6.43000000e-01],\n",
              "        [-6.60909476e-01],\n",
              "        [ 3.75937500e-02],\n",
              "        [ 5.58438919e-01],\n",
              "        [ 1.64529856e-01],\n",
              "        [-8.19340680e-02],\n",
              "        [-1.98953422e-01],\n",
              "        [-1.17688905e-01],\n",
              "        [ 5.68703727e-02],\n",
              "        [ 2.23740542e-01],\n",
              "        [-4.38796264e-02],\n",
              "        [-1.01098384e-01],\n",
              "        [-6.14701540e-02],\n",
              "        [ 1.26155318e-02],\n",
              "        [ 4.77551829e-01],\n",
              "        [ 6.24437500e-01],\n",
              "        [-2.70375000e-01],\n",
              "        [-7.26125000e-01],\n",
              "        [-5.92187500e-01],\n",
              "        [-4.57281250e-01],\n",
              "        [-2.76656250e-01],\n",
              "        [-1.66281250e-01],\n",
              "        [-4.35625000e-02],\n",
              "        [-3.70937500e-02],\n",
              "        [-6.44375000e-02],\n",
              "        [-1.35218750e-01],\n",
              "        [-1.62781250e-01],\n",
              "        [-6.00000000e-01],\n",
              "        [-7.19218750e-01],\n",
              "        [-6.81814113e-01],\n",
              "        [ 2.30593750e-01],\n",
              "        [ 6.13321583e-01],\n",
              "        [ 2.07067557e-01],\n",
              "        [-9.10887027e-02],\n",
              "        [-2.29075197e-01],\n",
              "        [-1.59560680e-01],\n",
              "        [ 1.70306260e-01],\n",
              "        [ 2.31312719e-01],\n",
              "        [ 3.27981970e-02],\n",
              "        [-1.15567135e-01],\n",
              "        [-8.43155169e-02],\n",
              "        [ 1.08936096e-01],\n",
              "        [ 5.19150417e-01],\n",
              "        [ 7.82656250e-01],\n",
              "        [-3.05250000e-01],\n",
              "        [-8.60375000e-01],\n",
              "        [-5.46875000e-01],\n",
              "        [-2.93218750e-01],\n",
              "        [-2.52812500e-01],\n",
              "        [-1.29406250e-01],\n",
              "        [-2.68750000e-02],\n",
              "        [-2.36250000e-02],\n",
              "        [-4.22812500e-02],\n",
              "        [-1.05812500e-01],\n",
              "        [-1.39875000e-01],\n",
              "        [-5.19312500e-01],\n",
              "        [-6.85500000e-01],\n",
              "        [-5.29156250e-01],\n",
              "        [ 2.50031250e-01],\n",
              "        [ 6.07452028e-01],\n",
              "        [ 3.66006670e-01],\n",
              "        [ 6.11877094e-02],\n",
              "        [-8.98596723e-02],\n",
              "        [ 1.15282318e-02],\n",
              "        [ 3.68030332e-02],\n",
              "        [ 1.48668365e-01],\n",
              "        [ 1.31806261e-01],\n",
              "        [-4.45967721e-02],\n",
              "        [ 4.90578697e-02],\n",
              "        [ 2.76661298e-01],\n",
              "        [ 5.58909088e-01],\n",
              "        [ 8.30156250e-01],\n",
              "        [-1.68718750e-01],\n",
              "        [-7.33781250e-01],\n",
              "        [-5.02656250e-01],\n",
              "        [-2.42062500e-01],\n",
              "        [-2.01718750e-01],\n",
              "        [-1.07812500e-01],\n",
              "        [-2.16875000e-02],\n",
              "        [-1.62187500e-02],\n",
              "        [-6.01250000e-02],\n",
              "        [-4.56562500e-02],\n",
              "        [-1.41875000e-01],\n",
              "        [-4.75062500e-01],\n",
              "        [-7.00093750e-01],\n",
              "        [-5.09937500e-01],\n",
              "        [ 1.13687500e-01],\n",
              "        [ 4.31155256e-01],\n",
              "        [ 2.49014734e-01],\n",
              "        [-1.08563903e-01],\n",
              "        [-1.90045560e-01],\n",
              "        [-1.48821970e-01],\n",
              "        [-6.77826532e-02],\n",
              "        [ 5.81564686e-02],\n",
              "        [ 9.72157369e-02],\n",
              "        [-9.44782236e-02],\n",
              "        [-1.36344696e-02],\n",
              "        [ 1.69572386e-01],\n",
              "        [ 4.64420984e-01],\n",
              "        [ 7.79625000e-01],\n",
              "        [-1.12000000e-01],\n",
              "        [-7.21687500e-01],\n",
              "        [-4.99468750e-01],\n",
              "        [-1.91750000e-01],\n",
              "        [-1.15093750e-01],\n",
              "        [-7.34687500e-02],\n",
              "        [-1.97812500e-02],\n",
              "        [-5.28125000e-03],\n",
              "        [-4.07500000e-02],\n",
              "        [-2.33125000e-02],\n",
              "        [-1.51093750e-01],\n",
              "        [-3.91531250e-01],\n",
              "        [-5.44281250e-01],\n",
              "        [-4.25406250e-01],\n",
              "        [ 1.75406250e-01],\n",
              "        [ 5.20763521e-01],\n",
              "        [ 3.81213524e-01],\n",
              "        [ 2.93784367e-02],\n",
              "        [-1.26756245e-01],\n",
              "        [-7.63451560e-02],\n",
              "        [ 4.62682153e-03],\n",
              "        [ 2.14151630e-01],\n",
              "        [ 2.54492149e-01],\n",
              "        [-1.28764092e-02],\n",
              "        [ 6.49214239e-03],\n",
              "        [ 2.80136499e-01],\n",
              "        [ 6.02381670e-01],\n",
              "        [ 7.54281250e-01],\n",
              "        [-2.24062500e-02],\n",
              "        [-5.94437500e-01],\n",
              "        [-6.13531250e-01],\n",
              "        [-1.42000000e-01],\n",
              "        [-1.69468750e-01],\n",
              "        [-4.57500000e-02],\n",
              "        [-1.56562500e-02],\n",
              "        [-2.90625000e-03],\n",
              "        [-2.55000000e-02],\n",
              "        [-5.66562500e-02],\n",
              "        [-1.20750000e-01],\n",
              "        [-3.16812500e-01],\n",
              "        [-5.01343750e-01],\n",
              "        [-2.70906250e-01],\n",
              "        [ 3.35843750e-01],\n",
              "        [ 5.96346588e-01],\n",
              "        [ 5.33795984e-01],\n",
              "        [ 3.35020171e-01],\n",
              "        [ 2.54020771e-01],\n",
              "        [ 2.61530450e-01],\n",
              "        [ 4.08885489e-01],\n",
              "        [ 4.94610703e-01],\n",
              "        [ 4.47201221e-01],\n",
              "        [ 2.72074599e-01],\n",
              "        [ 3.25577827e-01],\n",
              "        [ 4.51911297e-01],\n",
              "        [ 6.23780462e-01],\n",
              "        [ 7.80271173e-01],\n",
              "        [ 2.34375000e-03],\n",
              "        [-5.31312500e-01],\n",
              "        [-5.50875000e-01],\n",
              "        [-1.71906250e-01],\n",
              "        [-1.42968750e-01],\n",
              "        [-4.82500000e-02],\n",
              "        [-1.66875000e-02],\n",
              "        [-1.25000000e-04],\n",
              "        [ 0.00000000e+00],\n",
              "        [-7.40625000e-03],\n",
              "        [-2.65625000e-02],\n",
              "        [-1.02531250e-01],\n",
              "        [-2.25593750e-01],\n",
              "        [-9.18437500e-02],\n",
              "        [ 2.53593750e-01],\n",
              "        [ 4.99573402e-01],\n",
              "        [ 5.12885296e-01],\n",
              "        [ 2.94349207e-01],\n",
              "        [ 2.30727424e-01],\n",
              "        [ 3.26267345e-01],\n",
              "        [ 4.88121385e-01],\n",
              "        [ 5.61465137e-01],\n",
              "        [ 5.36435499e-01],\n",
              "        [ 2.88129444e-01],\n",
              "        [ 2.82695774e-01],\n",
              "        [ 3.81645576e-01],\n",
              "        [ 5.89455253e-01],\n",
              "        [ 6.60432261e-01],\n",
              "        [ 5.29375000e-02],\n",
              "        [-2.24093750e-01],\n",
              "        [-1.98250000e-01],\n",
              "        [-8.25625000e-02],\n",
              "        [-2.40625000e-02],\n",
              "        [-6.50000000e-03],\n",
              "        [-4.68750000e-04]])}"
            ]
          },
          "metadata": {},
          "execution_count": 41
        }
      ]
    },
    {
      "cell_type": "code",
      "metadata": {
        "id": "2x8qrb_VmGFx",
        "colab": {
          "base_uri": "https://localhost:8080/",
          "height": 182
        },
        "outputId": "2feb5be2-195f-484b-d16d-aa15a1e33040"
      },
      "source": [
        "print(model_0.predict(X_test[0:9]))\n",
        "print(Y_test[0:9])"
      ],
      "execution_count": null,
      "outputs": [
        {
          "output_type": "error",
          "ename": "AttributeError",
          "evalue": "ignored",
          "traceback": [
            "\u001b[0;31m---------------------------------------------------------------------------\u001b[0m",
            "\u001b[0;31mAttributeError\u001b[0m                            Traceback (most recent call last)",
            "\u001b[0;32m<ipython-input-42-b3d05449db7b>\u001b[0m in \u001b[0;36m<module>\u001b[0;34m()\u001b[0m\n\u001b[0;32m----> 1\u001b[0;31m \u001b[0mprint\u001b[0m\u001b[0;34m(\u001b[0m\u001b[0mmodel_0\u001b[0m\u001b[0;34m.\u001b[0m\u001b[0mpredict\u001b[0m\u001b[0;34m(\u001b[0m\u001b[0mX_test\u001b[0m\u001b[0;34m[\u001b[0m\u001b[0;36m0\u001b[0m\u001b[0;34m:\u001b[0m\u001b[0;36m9\u001b[0m\u001b[0;34m]\u001b[0m\u001b[0;34m)\u001b[0m\u001b[0;34m)\u001b[0m\u001b[0;34m\u001b[0m\u001b[0;34m\u001b[0m\u001b[0m\n\u001b[0m\u001b[1;32m      2\u001b[0m \u001b[0mprint\u001b[0m\u001b[0;34m(\u001b[0m\u001b[0mY_test\u001b[0m\u001b[0;34m[\u001b[0m\u001b[0;36m0\u001b[0m\u001b[0;34m:\u001b[0m\u001b[0;36m9\u001b[0m\u001b[0;34m]\u001b[0m\u001b[0;34m)\u001b[0m\u001b[0;34m\u001b[0m\u001b[0;34m\u001b[0m\u001b[0m\n",
            "\u001b[0;31mAttributeError\u001b[0m: 'dict' object has no attribute 'predict'"
          ]
        }
      ]
    },
    {
      "cell_type": "code",
      "metadata": {
        "id": "1yE46nv2m4R-"
      },
      "source": [
        "model_0.score(X_train, Y_train)"
      ],
      "execution_count": null,
      "outputs": []
    },
    {
      "cell_type": "code",
      "metadata": {
        "id": "JzBQK0f3m7JE",
        "colab": {
          "base_uri": "https://localhost:8080/"
        },
        "outputId": "0106bf46-c3dd-42a6-beb4-8d12ee1ff764"
      },
      "source": [
        "score = model_0.score(X_test, Y_test) # test score\n",
        "score"
      ],
      "execution_count": null,
      "outputs": [
        {
          "output_type": "execute_result",
          "data": {
            "text/plain": [
              "0.675"
            ]
          },
          "metadata": {},
          "execution_count": 54
        }
      ]
    },
    {
      "cell_type": "code",
      "metadata": {
        "id": "siORzgKGm_kH"
      },
      "source": [
        "from sklearn import metrics"
      ],
      "execution_count": 35,
      "outputs": []
    },
    {
      "cell_type": "code",
      "metadata": {
        "id": "Mh2Y2RRbrZq_",
        "colab": {
          "base_uri": "https://localhost:8080/"
        },
        "outputId": "c65a235a-12e6-430e-f066-e0344224c6b7"
      },
      "source": [
        "from sklearn.linear_model import LogisticRegression\n",
        "model_0 = LogisticRegression(fit_intercept=True,\n",
        "                        multi_class='auto',\n",
        "                        penalty='l1', #lasso regression\n",
        "                        solver='saga',\n",
        "                        max_iter=1000,\n",
        "                        C=50,\n",
        "                        verbose=2, # output progress\n",
        "                        n_jobs=5, # parallelize over 5 processes\n",
        "                        tol=0.01\n",
        "                         )\n",
        "model_0"
      ],
      "execution_count": 36,
      "outputs": [
        {
          "output_type": "execute_result",
          "data": {
            "text/plain": [
              "LogisticRegression(C=50, max_iter=1000, n_jobs=5, penalty='l1', solver='saga',\n",
              "                   tol=0.01, verbose=2)"
            ]
          },
          "metadata": {},
          "execution_count": 36
        }
      ]
    },
    {
      "cell_type": "code",
      "metadata": {
        "id": "hLFnZHcjrxXD",
        "colab": {
          "base_uri": "https://localhost:8080/"
        },
        "outputId": "f51782d8-ccdf-4dde-ea80-130dc8fb4581"
      },
      "source": [
        "model_0.fit(X_train, Y_train)\n"
      ],
      "execution_count": 37,
      "outputs": [
        {
          "output_type": "stream",
          "name": "stderr",
          "text": [
            "/usr/local/lib/python3.7/dist-packages/sklearn/utils/validation.py:985: DataConversionWarning: A column-vector y was passed when a 1d array was expected. Please change the shape of y to (n_samples, ), for example using ravel().\n",
            "  y = column_or_1d(y, warn=True)\n",
            "[Parallel(n_jobs=5)]: Using backend ThreadingBackend with 5 concurrent workers.\n"
          ]
        },
        {
          "output_type": "stream",
          "name": "stdout",
          "text": [
            "convergence after 51 epochs took 1 seconds\n"
          ]
        },
        {
          "output_type": "stream",
          "name": "stderr",
          "text": [
            "[Parallel(n_jobs=5)]: Done   1 out of   1 | elapsed:    1.0s finished\n"
          ]
        },
        {
          "output_type": "execute_result",
          "data": {
            "text/plain": [
              "LogisticRegression(C=50, max_iter=1000, n_jobs=5, penalty='l1', solver='saga',\n",
              "                   tol=0.01, verbose=2)"
            ]
          },
          "metadata": {},
          "execution_count": 37
        }
      ]
    },
    {
      "cell_type": "code",
      "metadata": {
        "id": "AyCZSUIVnCYY"
      },
      "source": [
        "predictions = model_0.predict(X_test)\n",
        "\n",
        "cm = metrics.confusion_matrix(y_true=Y_test, \n",
        "                         y_pred = predictions, \n",
        "                        labels = model_0.classes_)"
      ],
      "execution_count": null,
      "outputs": []
    },
    {
      "cell_type": "code",
      "metadata": {
        "id": "tB1g7f2etc12",
        "colab": {
          "base_uri": "https://localhost:8080/"
        },
        "outputId": "2fbb36ca-10e4-4c3d-ca2d-0ce726d409de"
      },
      "source": [
        "cm"
      ],
      "execution_count": null,
      "outputs": [
        {
          "output_type": "execute_result",
          "data": {
            "text/plain": [
              "array([[3, 0, 0, 0, 0, 0, 0, 0, 1, 0],\n",
              "       [0, 7, 0, 0, 0, 0, 0, 0, 0, 0],\n",
              "       [0, 1, 4, 0, 1, 0, 0, 0, 0, 0],\n",
              "       [0, 0, 0, 0, 0, 0, 0, 0, 0, 0],\n",
              "       [0, 1, 0, 0, 2, 0, 1, 0, 0, 0],\n",
              "       [0, 0, 0, 0, 0, 1, 0, 1, 0, 3],\n",
              "       [3, 0, 1, 0, 0, 0, 2, 0, 0, 0],\n",
              "       [0, 0, 0, 0, 0, 0, 0, 2, 0, 0],\n",
              "       [0, 0, 0, 0, 0, 0, 0, 0, 2, 0],\n",
              "       [0, 0, 0, 0, 0, 0, 0, 0, 0, 4]])"
            ]
          },
          "metadata": {},
          "execution_count": 56
        }
      ]
    },
    {
      "cell_type": "code",
      "metadata": {
        "id": "9i2uOQK2oB-t",
        "colab": {
          "base_uri": "https://localhost:8080/",
          "height": 584
        },
        "outputId": "154ad782-5f19-4288-fadc-17d69a3d66c1"
      },
      "source": [
        "import seaborn as sns\n",
        "\n",
        "plt.figure(figsize=(10,10))\n",
        "sns.heatmap(cm, annot=True, linewidths=.5, square = True, cmap = 'Blues_r');\n",
        "\n",
        "plt.ylabel('Actual label')\n",
        "plt.xlabel('Predicted label')\n",
        "all_sample_title = 'Accuracy Score: {0}'.format(score)"
      ],
      "execution_count": null,
      "outputs": [
        {
          "output_type": "display_data",
          "data": {
            "image/png": "[encoded data removed]",
            "text/plain": [
              "<Figure size 720x720 with 2 Axes>"
            ]
          },
          "metadata": {
            "needs_background": "light"
          }
        }
      ]
    },
    {
      "cell_type": "code",
      "metadata": {
        "id": "ZhVKOZGIukLy",
        "colab": {
          "base_uri": "https://localhost:8080/"
        },
        "outputId": "c6c8b251-b84b-4f53-d78a-1d0b8ca1b9d6"
      },
      "source": [
        " accuracy = metrics.accuracy_score(Y_test, predictions)\n",
        " accuracy "
      ],
      "execution_count": null,
      "outputs": [
        {
          "output_type": "execute_result",
          "data": {
            "text/plain": [
              "0.675"
            ]
          },
          "metadata": {},
          "execution_count": 59
        }
      ]
    },
    {
      "cell_type": "code",
      "metadata": {
        "id": "vJFXE4rbuvuV",
        "colab": {
          "base_uri": "https://localhost:8080/"
        },
        "outputId": "79645e05-1c4e-43eb-d0f8-90c6832189fd"
      },
      "source": [
        "print(metrics.classification_report(Y_test, predictions))"
      ],
      "execution_count": null,
      "outputs": [
        {
          "output_type": "stream",
          "name": "stdout",
          "text": [
            "              precision    recall  f1-score   support\n",
            "\n",
            "         0.0       0.50      0.75      0.60         4\n",
            "         1.0       0.78      1.00      0.88         7\n",
            "         2.0       0.80      0.67      0.73         6\n",
            "         4.0       0.67      0.50      0.57         4\n",
            "         5.0       1.00      0.20      0.33         5\n",
            "         6.0       0.67      0.33      0.44         6\n",
            "         7.0       0.67      1.00      0.80         2\n",
            "         8.0       0.67      1.00      0.80         2\n",
            "         9.0       0.57      1.00      0.73         4\n",
            "\n",
            "    accuracy                           0.68        40\n",
            "   macro avg       0.70      0.72      0.65        40\n",
            "weighted avg       0.72      0.68      0.64        40\n",
            "\n"
          ]
        }
      ]
    },
    {
      "cell_type": "code",
      "metadata": {
        "id": "b2S3Ec_iuzTu",
        "colab": {
          "base_uri": "https://localhost:8080/",
          "height": 398
        },
        "outputId": "72fc5fb2-d16e-4ca0-9351-d6b28b563369"
      },
      "source": [
        "sns.set_style('darkgrid')\n",
        "preds_train = model_0.predict(X_train)\n",
        "# calculate prediction probability\n",
        "prob_train = np.squeeze(model_0.predict_proba(X_train)[:,1].reshape(1,-1))\n",
        "prob_test = np.squeeze(model_0.predict_proba(X_test)[:,1].reshape(1,-1))\n",
        "# false positive rate, true positive rate, thresholds\n",
        "fpr1, tpr1, thresholds1 = metrics.roc_curve(y, prob_test)\n",
        "fpr2, tpr2, thresholds2 = metrics.roc_curve(y, prob_train)\n",
        "# auc score\n",
        "auc1 = metrics.auc(fpr1, tpr1)\n",
        "auc2 = metrics.auc(fpr2, tpr2)\n",
        "plt.figure(figsize=(8,8))\n",
        "# plot auc \n",
        "plt.plot(fpr1, tpr1, color='blue', label='Test ROC curve area = %0.2f'%auc1)\n",
        "plt.plot(fpr2, tpr2, color='green', label='Train ROC curve area = %0.2f'%auc2)\n",
        "plt.plot([0,1],[0,1], 'r--')\n",
        "plt.xlim([-0.1, 1.1])\n",
        "plt.ylim([-0.1, 1.1])\n",
        "plt.xlabel('False Positive Rate', size=14)\n",
        "plt.ylabel('True Positive Rate', size=14)\n",
        "plt.legend(loc='lower right')\n",
        "plt.show()"
      ],
      "execution_count": null,
      "outputs": [
        {
          "output_type": "error",
          "ename": "ValueError",
          "evalue": "ignored",
          "traceback": [
            "\u001b[0;31m---------------------------------------------------------------------------\u001b[0m",
            "\u001b[0;31mValueError\u001b[0m                                Traceback (most recent call last)",
            "\u001b[0;32m<ipython-input-70-83be9303caa4>\u001b[0m in \u001b[0;36m<module>\u001b[0;34m()\u001b[0m\n\u001b[1;32m      5\u001b[0m \u001b[0mprob_test\u001b[0m \u001b[0;34m=\u001b[0m \u001b[0mnp\u001b[0m\u001b[0;34m.\u001b[0m\u001b[0msqueeze\u001b[0m\u001b[0;34m(\u001b[0m\u001b[0mmodel_0\u001b[0m\u001b[0;34m.\u001b[0m\u001b[0mpredict_proba\u001b[0m\u001b[0;34m(\u001b[0m\u001b[0mX_test\u001b[0m\u001b[0;34m)\u001b[0m\u001b[0;34m[\u001b[0m\u001b[0;34m:\u001b[0m\u001b[0;34m,\u001b[0m\u001b[0;36m1\u001b[0m\u001b[0;34m]\u001b[0m\u001b[0;34m.\u001b[0m\u001b[0mreshape\u001b[0m\u001b[0;34m(\u001b[0m\u001b[0;36m1\u001b[0m\u001b[0;34m,\u001b[0m\u001b[0;34m-\u001b[0m\u001b[0;36m1\u001b[0m\u001b[0;34m)\u001b[0m\u001b[0;34m)\u001b[0m\u001b[0;34m\u001b[0m\u001b[0;34m\u001b[0m\u001b[0m\n\u001b[1;32m      6\u001b[0m \u001b[0;31m# false positive rate, true positive rate, thresholds\u001b[0m\u001b[0;34m\u001b[0m\u001b[0;34m\u001b[0m\u001b[0;34m\u001b[0m\u001b[0m\n\u001b[0;32m----> 7\u001b[0;31m \u001b[0mfpr1\u001b[0m\u001b[0;34m,\u001b[0m \u001b[0mtpr1\u001b[0m\u001b[0;34m,\u001b[0m \u001b[0mthresholds1\u001b[0m \u001b[0;34m=\u001b[0m \u001b[0mmetrics\u001b[0m\u001b[0;34m.\u001b[0m\u001b[0mroc_curve\u001b[0m\u001b[0;34m(\u001b[0m\u001b[0my\u001b[0m\u001b[0;34m,\u001b[0m \u001b[0mprob_test\u001b[0m\u001b[0;34m)\u001b[0m\u001b[0;34m\u001b[0m\u001b[0;34m\u001b[0m\u001b[0m\n\u001b[0m\u001b[1;32m      8\u001b[0m \u001b[0mfpr2\u001b[0m\u001b[0;34m,\u001b[0m \u001b[0mtpr2\u001b[0m\u001b[0;34m,\u001b[0m \u001b[0mthresholds2\u001b[0m \u001b[0;34m=\u001b[0m \u001b[0mmetrics\u001b[0m\u001b[0;34m.\u001b[0m\u001b[0mroc_curve\u001b[0m\u001b[0;34m(\u001b[0m\u001b[0my\u001b[0m\u001b[0;34m,\u001b[0m \u001b[0mprob_train\u001b[0m\u001b[0;34m)\u001b[0m\u001b[0;34m\u001b[0m\u001b[0;34m\u001b[0m\u001b[0m\n\u001b[1;32m      9\u001b[0m \u001b[0;31m# auc score\u001b[0m\u001b[0;34m\u001b[0m\u001b[0;34m\u001b[0m\u001b[0;34m\u001b[0m\u001b[0m\n",
            "\u001b[0;32m/usr/local/lib/python3.7/dist-packages/sklearn/metrics/_ranking.py\u001b[0m in \u001b[0;36mroc_curve\u001b[0;34m(y_true, y_score, pos_label, sample_weight, drop_intermediate)\u001b[0m\n\u001b[1;32m    961\u001b[0m     \"\"\"\n\u001b[1;32m    962\u001b[0m     fps, tps, thresholds = _binary_clf_curve(\n\u001b[0;32m--> 963\u001b[0;31m         \u001b[0my_true\u001b[0m\u001b[0;34m,\u001b[0m \u001b[0my_score\u001b[0m\u001b[0;34m,\u001b[0m \u001b[0mpos_label\u001b[0m\u001b[0;34m=\u001b[0m\u001b[0mpos_label\u001b[0m\u001b[0;34m,\u001b[0m \u001b[0msample_weight\u001b[0m\u001b[0;34m=\u001b[0m\u001b[0msample_weight\u001b[0m\u001b[0;34m\u001b[0m\u001b[0;34m\u001b[0m\u001b[0m\n\u001b[0m\u001b[1;32m    964\u001b[0m     )\n\u001b[1;32m    965\u001b[0m \u001b[0;34m\u001b[0m\u001b[0m\n",
            "\u001b[0;32m/usr/local/lib/python3.7/dist-packages/sklearn/metrics/_ranking.py\u001b[0m in \u001b[0;36m_binary_clf_curve\u001b[0;34m(y_true, y_score, pos_label, sample_weight)\u001b[0m\n\u001b[1;32m    729\u001b[0m     \u001b[0my_type\u001b[0m \u001b[0;34m=\u001b[0m \u001b[0mtype_of_target\u001b[0m\u001b[0;34m(\u001b[0m\u001b[0my_true\u001b[0m\u001b[0;34m)\u001b[0m\u001b[0;34m\u001b[0m\u001b[0;34m\u001b[0m\u001b[0m\n\u001b[1;32m    730\u001b[0m     \u001b[0;32mif\u001b[0m \u001b[0;32mnot\u001b[0m \u001b[0;34m(\u001b[0m\u001b[0my_type\u001b[0m \u001b[0;34m==\u001b[0m \u001b[0;34m\"binary\"\u001b[0m \u001b[0;32mor\u001b[0m \u001b[0;34m(\u001b[0m\u001b[0my_type\u001b[0m \u001b[0;34m==\u001b[0m \u001b[0;34m\"multiclass\"\u001b[0m \u001b[0;32mand\u001b[0m \u001b[0mpos_label\u001b[0m \u001b[0;32mis\u001b[0m \u001b[0;32mnot\u001b[0m \u001b[0;32mNone\u001b[0m\u001b[0;34m)\u001b[0m\u001b[0;34m)\u001b[0m\u001b[0;34m:\u001b[0m\u001b[0;34m\u001b[0m\u001b[0;34m\u001b[0m\u001b[0m\n\u001b[0;32m--> 731\u001b[0;31m         \u001b[0;32mraise\u001b[0m \u001b[0mValueError\u001b[0m\u001b[0;34m(\u001b[0m\u001b[0;34m\"{0} format is not supported\"\u001b[0m\u001b[0;34m.\u001b[0m\u001b[0mformat\u001b[0m\u001b[0;34m(\u001b[0m\u001b[0my_type\u001b[0m\u001b[0;34m)\u001b[0m\u001b[0;34m)\u001b[0m\u001b[0;34m\u001b[0m\u001b[0;34m\u001b[0m\u001b[0m\n\u001b[0m\u001b[1;32m    732\u001b[0m \u001b[0;34m\u001b[0m\u001b[0m\n\u001b[1;32m    733\u001b[0m     \u001b[0mcheck_consistent_length\u001b[0m\u001b[0;34m(\u001b[0m\u001b[0my_true\u001b[0m\u001b[0;34m,\u001b[0m \u001b[0my_score\u001b[0m\u001b[0;34m,\u001b[0m \u001b[0msample_weight\u001b[0m\u001b[0;34m)\u001b[0m\u001b[0;34m\u001b[0m\u001b[0;34m\u001b[0m\u001b[0m\n",
            "\u001b[0;31mValueError\u001b[0m: multilabel-indicator format is not supported"
          ]
        }
      ]
    },
    {
      "cell_type": "code",
      "metadata": {
        "id": "DVJ4YG8Ru57I",
        "colab": {
          "base_uri": "https://localhost:8080/",
          "height": 252
        },
        "outputId": "5ba972ef-b117-421c-b333-743effbf3704"
      },
      "source": [
        " # creating index\n",
        " i = np.arange(len(tpr1))\n",
        " # extracting roc values against different thresholds \n",
        " roc = pd.DataFrame({'fpr':fpr1, 'tpr':tpr1, 'tf':(tpr1-1+fpr1), 'thresholds':thresholds1}, index=i)\n",
        " # top 5 best roc occurrences \n",
        " roc.iloc[(roc.tf-0).abs().argsort()[:5]] "
      ],
      "execution_count": null,
      "outputs": [
        {
          "output_type": "error",
          "ename": "NameError",
          "evalue": "ignored",
          "traceback": [
            "\u001b[0;31m---------------------------------------------------------------------------\u001b[0m",
            "\u001b[0;31mNameError\u001b[0m                                 Traceback (most recent call last)",
            "\u001b[0;32m<ipython-input-66-03f7d54778c8>\u001b[0m in \u001b[0;36m<module>\u001b[0;34m()\u001b[0m\n\u001b[1;32m      1\u001b[0m \u001b[0;31m# creating index\u001b[0m\u001b[0;34m\u001b[0m\u001b[0;34m\u001b[0m\u001b[0;34m\u001b[0m\u001b[0m\n\u001b[0;32m----> 2\u001b[0;31m \u001b[0mi\u001b[0m \u001b[0;34m=\u001b[0m \u001b[0mnp\u001b[0m\u001b[0;34m.\u001b[0m\u001b[0marange\u001b[0m\u001b[0;34m(\u001b[0m\u001b[0mlen\u001b[0m\u001b[0;34m(\u001b[0m\u001b[0mtpr1\u001b[0m\u001b[0;34m)\u001b[0m\u001b[0;34m)\u001b[0m\u001b[0;34m\u001b[0m\u001b[0;34m\u001b[0m\u001b[0m\n\u001b[0m\u001b[1;32m      3\u001b[0m \u001b[0;31m# extracting roc values against different thresholds\u001b[0m\u001b[0;34m\u001b[0m\u001b[0;34m\u001b[0m\u001b[0;34m\u001b[0m\u001b[0m\n\u001b[1;32m      4\u001b[0m \u001b[0mroc\u001b[0m \u001b[0;34m=\u001b[0m \u001b[0mpd\u001b[0m\u001b[0;34m.\u001b[0m\u001b[0mDataFrame\u001b[0m\u001b[0;34m(\u001b[0m\u001b[0;34m{\u001b[0m\u001b[0;34m'fpr'\u001b[0m\u001b[0;34m:\u001b[0m\u001b[0mfpr1\u001b[0m\u001b[0;34m,\u001b[0m \u001b[0;34m'tpr'\u001b[0m\u001b[0;34m:\u001b[0m\u001b[0mtpr1\u001b[0m\u001b[0;34m,\u001b[0m \u001b[0;34m'tf'\u001b[0m\u001b[0;34m:\u001b[0m\u001b[0;34m(\u001b[0m\u001b[0mtpr1\u001b[0m\u001b[0;34m-\u001b[0m\u001b[0;36m1\u001b[0m\u001b[0;34m+\u001b[0m\u001b[0mfpr1\u001b[0m\u001b[0;34m)\u001b[0m\u001b[0;34m,\u001b[0m \u001b[0;34m'thresholds'\u001b[0m\u001b[0;34m:\u001b[0m\u001b[0mthresholds1\u001b[0m\u001b[0;34m}\u001b[0m\u001b[0;34m,\u001b[0m \u001b[0mindex\u001b[0m\u001b[0;34m=\u001b[0m\u001b[0mi\u001b[0m\u001b[0;34m)\u001b[0m\u001b[0;34m\u001b[0m\u001b[0;34m\u001b[0m\u001b[0m\n\u001b[1;32m      5\u001b[0m \u001b[0;31m# top 5 best roc occurrences\u001b[0m\u001b[0;34m\u001b[0m\u001b[0;34m\u001b[0m\u001b[0;34m\u001b[0m\u001b[0m\n",
            "\u001b[0;31mNameError\u001b[0m: name 'tpr1' is not defined"
          ]
        }
      ]
    },
    {
      "cell_type": "code",
      "metadata": {
        "id": "F13W3dTcvF-N"
      },
      "source": [
        " pre, rec, thr = metrics.precision_recall_curve(Y_test, prob_test)\n",
        " plt.figure(figsize=(8,4))\n",
        " plt.plot(thr, pre[:-1], label='precision')\n",
        " plt.plot(thr, rec[1:], label='recall')\n",
        " plt.xlabel('Threshold')\n",
        " plt.title('Precision & Recall vs Threshold', c='r', size=16)\n",
        " plt.legend()\n",
        " plt.show() "
      ],
      "execution_count": null,
      "outputs": []
    },
    {
      "cell_type": "code",
      "metadata": {
        "id": "1gxgwvLGvJFO"
      },
      "source": [
        " fig, ax = plt.subplots(1,1, figsize=(8,8))\n",
        " metrics.plot_precision_recall_curve(model, X_test, Y_test, ax=ax) "
      ],
      "execution_count": null,
      "outputs": []
    },
    {
      "cell_type": "code",
      "metadata": {
        "id": "r0Q4LHTUy8AE"
      },
      "source": [
        "from sklearn.preprocessing import label_binarize\n",
        "y = label_binarize(Y_train, classes=[0, 1, 2,3,4,5,6,7,8,9])\n"
      ],
      "execution_count": 38,
      "outputs": []
    },
    {
      "cell_type": "code",
      "metadata": {
        "id": "XBkw4NWOzD2P"
      },
      "source": [
        "n_classes = y.shape[1]"
      ],
      "execution_count": 39,
      "outputs": []
    },
    {
      "cell_type": "code",
      "metadata": {
        "id": "GZf-8byiz-Fo"
      },
      "source": [
        "random_state = np.random.RandomState(0)\n",
        "n_samples, n_features = X_train.shape\n",
        "X = np.c_[X_train, random_state.randn(n_samples, 200 * n_features)]\n",
        "\n",
        "'''\n",
        "# shuffle and split training and test sets\n",
        "X_train, X_test, y_train, y_test = train_test_split(X, y, test_size=.5,\n",
        "                                                    random_state=0)\n",
        "\n",
        "# Learn to predict each class against the other\n",
        "from sklearn.linear_model import LogisticRegression\n",
        "model1 = LogisticRegression(fit_intercept=True,\n",
        "                        multi_class='auto',\n",
        "                        penalty='l1', #lasso regression\n",
        "                        solver='saga',\n",
        "                        max_iter=1000,\n",
        "                        C=50,\n",
        "                        verbose=2, # output progress\n",
        "                        n_jobs=5, # parallelize over 5 processes\n",
        "                        tol=0.01\n",
        "                         )\n",
        "model1\n",
        "\n",
        "\n",
        "y_score = model1.fit(X_train, y_train)\n",
        "'''\n",
        "\n",
        "random_state = np.random.RandomState(0)\n",
        "n_samples, n_features = X_train.shape\n",
        "X = np.c_[X_train, random_state.randn(n_samples, 200 * n_features)]\n",
        "\n",
        "# shuffle and split training and test sets\n",
        "X_train, X_test, y_train, y_test = train_test_split(X, y, test_size=.5,\n",
        "                                                    random_state=0)\n",
        "\n",
        "# Learn to predict each class against the other\n",
        "classifier = OneVsRestClassifier(svm.SVC(kernel='linear', probability=True,\n",
        "                                 random_state=random_state))\n",
        "y_score = classifier.fit(X_train, y_train).decision_function(X_test)"
      ],
      "execution_count": 41,
      "outputs": []
    },
    {
      "cell_type": "code",
      "metadata": {
        "id": "KYBYn8jP2fWh"
      },
      "source": [
        "import numpy as np\n",
        "import matplotlib.pyplot as plt\n",
        "from sklearn import svm, datasets\n",
        "from sklearn.metrics import roc_curve, auc\n",
        "\n",
        "from sklearn.preprocessing import label_binarize\n",
        "from sklearn.multiclass import OneVsRestClassifier"
      ],
      "execution_count": 40,
      "outputs": []
    },
    {
      "cell_type": "code",
      "metadata": {
        "id": "eIiPLXlmzOF2",
        "colab": {
          "base_uri": "https://localhost:8080/",
          "height": 573
        },
        "outputId": "6fe1af48-f1d9-439c-c855-86ffc77a91f2"
      },
      "source": [
        "fpr = dict()\n",
        "tpr = dict()\n",
        "roc_auc = dict()\n",
        "for i in range(n_classes):\n",
        "    fpr[i], tpr[i], _ = roc_curve(y_test[:, i], y_score[:, i])\n",
        "    roc_auc[i] = auc(fpr[i], tpr[i])\n",
        "\n",
        "# Compute micro-average ROC curve and ROC area\n",
        "fpr[\"micro\"], tpr[\"micro\"], _ = roc_curve(y_test.ravel(), y_score.ravel())\n",
        "roc_auc[\"micro\"] = auc(fpr[\"micro\"], tpr[\"micro\"])\n",
        "\n",
        "# Plot of a ROC curve for a specific class\n",
        "plt.figure()\n",
        "plt.plot(fpr[2], tpr[2], label='ROC curve (area = %0.2f)' % roc_auc[2])\n",
        "plt.plot([0, 1], [0, 1], 'k--')\n",
        "plt.xlim([0.0, 1.0])\n",
        "plt.ylim([0.0, 1.05])\n",
        "plt.xlabel('False Positive Rate')\n",
        "plt.ylabel('True Positive Rate')\n",
        "plt.title('Receiver operating characteristic example')\n",
        "plt.legend(loc=\"lower right\")\n",
        "plt.show()\n",
        "\n",
        "# Plot ROC curve\n",
        "plt.figure()\n",
        "plt.plot(fpr[\"micro\"], tpr[\"micro\"],\n",
        "         label='micro-average ROC curve (area = {0:0.2f})'\n",
        "               ''.format(roc_auc[\"micro\"]))\n",
        "for i in range(n_classes):\n",
        "    plt.plot(fpr[i], tpr[i], label='ROC curve of class {0} (area = {1:0.2f})'\n",
        "                                   ''.format(i, roc_auc[i]))\n",
        "\n",
        "plt.plot([0, 1], [0, 1], 'k--')\n",
        "plt.xlim([0.0, 1.0])\n",
        "plt.ylim([0.0, 1.05])\n",
        "plt.xlabel('False Positive Rate')\n",
        "plt.ylabel('True Positive Rate')\n",
        "plt.title('Some extension of Receiver operating characteristic to multi-class')\n",
        "plt.legend(loc=\"lower right\")\n",
        "plt.show()"
      ],
      "execution_count": 42,
      "outputs": [
        {
          "output_type": "display_data",
          "data": {
            "image/png": "[encoded data removed]",
            "text/plain": [
              "<Figure size 432x288 with 1 Axes>"
            ]
          },
          "metadata": {
            "needs_background": "light"
          }
        },
        {
          "output_type": "display_data",
          "data": {
            "image/png": "[encoded data removed]",
            "text/plain": [
              "<Figure size 432x288 with 1 Axes>"
            ]
          },
          "metadata": {
            "needs_background": "light"
          }
        }
      ]
    }
  ]
}